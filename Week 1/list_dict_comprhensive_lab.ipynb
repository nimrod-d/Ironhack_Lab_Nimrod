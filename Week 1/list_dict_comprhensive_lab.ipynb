{
 "cells": [
  {
   "cell_type": "markdown",
   "metadata": {
    "tags": []
   },
   "source": [
    "# Lab | Data Structures "
   ]
  },
  {
   "cell_type": "markdown",
   "metadata": {},
   "source": [
    "## Exercise: Managing Customer Orders\n",
    "\n",
    "As part of a business venture, you are starting an online store that sells various products. To ensure smooth operations, you need to develop a program that manages customer orders and inventory.\n",
    "\n",
    "Follow the steps below to complete the exercise:\n",
    "\n",
    "1. Define a list called `products` that contains the following items: \"t-shirt\", \"mug\", \"hat\", \"book\", \"keychain\".\n",
    "\n",
    "2. Create an empty dictionary called `inventory`.\n",
    "\n",
    "3. Ask the user to input the quantity of each product available in the inventory. Use the product names from the `products` list as keys in the `inventory` dictionary and assign the respective quantities as values.\n",
    "\n",
    "4. Create an empty set called `customer_orders`.\n",
    "\n",
    "5. Ask the user to input the name of three products that a customer wants to order (from those in the products list, meaning three products out of \"t-shirt\", \"mug\", \"hat\", \"book\" or \"keychain\". Add each product name to the `customer_orders` set.\n",
    "\n",
    "6. Print the products in the `customer_orders` set.\n",
    "\n",
    "7. Calculate the following order statistics:\n",
    "   - Total Products Ordered: The total number of products in the `customer_orders` set.\n",
    "   - Percentage of Products Ordered: The percentage of products ordered compared to the total available products.\n",
    "   \n",
    "   Store these statistics in a tuple called `order_status`.\n",
    "\n",
    "8. Print the order statistics using the following format:\n",
    "   ```\n",
    "   Order Statistics:\n",
    "   Total Products Ordered: <total_products_ordered>\n",
    "   Percentage of Products Ordered: <percentage_ordered>% \n",
    "   ```\n",
    "\n",
    "9. Update the inventory by subtracting 1 from the quantity of each product. Modify the `inventory` dictionary accordingly.\n",
    "\n",
    "10. Print the updated inventory, displaying the quantity of each product on separate lines.\n",
    "\n",
    "Solve the exercise by implementing the steps using the Python concepts of lists, dictionaries, sets, and basic input/output operations. "
   ]
  },
  {
   "cell_type": "code",
   "execution_count": 54,
   "metadata": {},
   "outputs": [
    {
     "name": "stdout",
     "output_type": "stream",
     "text": [
      "Enter quantity of product t-shirt: 1\n",
      "Enter quantity of product mug: 1\n",
      "Enter quantity of product hat: 1\n",
      "Enter quantity of product book: 1\n",
      "Enter quantity of product keychain: 1\n",
      "{'t-shirt': 1, 'mug': 1, 'hat': 1, 'book': 1, 'keychain': 1}\n"
     ]
    }
   ],
   "source": [
    "# products = [\"t-shirt\", \"mug\", \"hat\", \"book\", \"keychain\"]\n",
    "inventory = {}\n",
    "\n",
    "inventory = {product: int(input(f\"Enter quantity of product {product}: \")) for product in products}\n",
    "\n",
    "print(inventory)"
   ]
  },
  {
   "cell_type": "code",
   "execution_count": 64,
   "metadata": {
    "scrolled": true
   },
   "outputs": [
    {
     "name": "stdout",
     "output_type": "stream",
     "text": [
      "Enter quantity of product t-shirt: 2\n",
      "Enter quantity of product mug: 2\n",
      "Enter quantity of product hat: 2\n",
      "Enter quantity of product book: 2\n",
      "Enter quantity of product keychain: 2\n",
      "{'t-shirt': 2, 'mug': 2, 'hat': 2, 'book': 2, 'keychain': 2}\n"
     ]
    }
   ],
   "source": [
    "products = [\"t-shirt\", \"mug\", \"hat\", \"book\", \"keychain\"]\n",
    "\n",
    "\n",
    "def init_inventory(prodcuts):\n",
    "    \n",
    "    inventory = {product: int(input(f\"Enter quantity of product {product}: \")) for product in products}\n",
    "    return inventory\n",
    "\n",
    "\n",
    "inventory = init_inventory(products)\n",
    "print(inventory)"
   ]
  },
  {
   "cell_type": "code",
   "execution_count": 75,
   "metadata": {},
   "outputs": [
    {
     "name": "stdout",
     "output_type": "stream",
     "text": [
      "Enter products for order: mug\n"
     ]
    }
   ],
   "source": [
    "#     client_input = \"yes\"\n",
    "#     customer_orders = [input(\"Enter products for order: \")]\n",
    "    \n",
    "\n",
    "customer_orders = set()\n",
    "\n",
    "def get_customer_orders():\n",
    "    \n",
    "    \n",
    "    client_input = 'yes'\n",
    "\n",
    "    while client_input == 'yes':\n",
    "\n",
    "        customer_orders .add(input(\"Enter products for order:\"))\n",
    "#         customer_orders = [input(\"Enter products for order:\") while client_input == \"yes\"]\n",
    "        \n",
    "        # added a while loop to test for client input \n",
    "        while True:\n",
    "            client_input = input(\"Would you like to order another product (yes/no): \").lower()\n",
    "            if client_input == 'yes' or client_input == 'no':\n",
    "                break\n",
    "            else:\n",
    "                print(\"Invalid Input, please enter yes or no\")\n",
    "    return customer_orders\n",
    "    \n",
    "get_customer_orders()\n"
   ]
  },
  {
   "cell_type": "code",
   "execution_count": 71,
   "metadata": {},
   "outputs": [
    {
     "name": "stdout",
     "output_type": "stream",
     "text": [
      "Enter products for order:book\n",
      "Would you like to order another product (yes/no): mug\n",
      "Invalid Input, please enter yes or no\n",
      "Would you like to order another product (yes/no): yes\n",
      "Enter products for order:mug\n",
      "Would you like to order another product (yes/no): no\n"
     ]
    },
    {
     "data": {
      "text/plain": [
       "{'book', 'mug'}"
      ]
     },
     "execution_count": 71,
     "metadata": {},
     "output_type": "execute_result"
    }
   ],
   "source": [
    "\n",
    "customer_orders = set()\n",
    "\n",
    "def get_customer_orders():\n",
    "    \n",
    "    \n",
    "    client_input = 'yes'\n",
    "\n",
    "    while client_input == 'yes':\n",
    "\n",
    "        customer_orders .add(input(\"Enter products for order:\"))\n",
    "#         customer_orders = [input(\"Enter products for order:\") while client_input == \"yes\"]\n",
    "        \n",
    "        # added a while loop to test for client input \n",
    "        while True:\n",
    "            client_input = input(\"Would you like to order another product (yes/no): \").lower()\n",
    "            if client_input == 'yes' or client_input == 'no':\n",
    "                break\n",
    "            else:\n",
    "                print(\"Invalid Input, please enter yes or no\")\n",
    "    return customer_orders\n",
    "    \n",
    "get_customer_orders()"
   ]
  },
  {
   "cell_type": "code",
   "execution_count": 20,
   "metadata": {},
   "outputs": [
    {
     "name": "stdout",
     "output_type": "stream",
     "text": [
      "{'t-shirt': 10, 'mug': 9, 'hat': 10, 'book': 10, 'keychain': 9}\n"
     ]
    }
   ],
   "source": [
    "\n",
    "def update_inventory(customer_orders, inventory):\n",
    "    for product in customer_orders:\n",
    "        if product in inventory:\n",
    "            inventory[product] -= 1\n",
    "    print(inventory)\n",
    "            \n",
    "update_inventory(customer_orders, inventory)\n",
    "\n",
    "    "
   ]
  },
  {
   "cell_type": "code",
   "execution_count": 30,
   "metadata": {},
   "outputs": [
    {
     "data": {
      "text/plain": [
       "(2, 40.0)"
      ]
     },
     "execution_count": 30,
     "metadata": {},
     "output_type": "execute_result"
    }
   ],
   "source": [
    "# # Define a function named calculate_order_statistics that takes customer_orders and products as parameters. \n",
    "# Inside the function, implement the code for calculating the order statistics (total products ordered, and percentage of \n",
    "# unique products ordered). The function should return these values.\n",
    "\n",
    "def calculate_order_statistics(customer_orders, products):\n",
    "    total_products_ordered = len(customer_orders)\n",
    "    p_of_uniqe_proucts_ordered = (total_products_ordered / len(products)) * 100\n",
    "    \n",
    "    return (total_products_ordered, p_of_uniqe_proucts_ordered)\n",
    "\n",
    "calculate_order_statistics(customer_orders, products)"
   ]
  },
  {
   "cell_type": "code",
   "execution_count": 32,
   "metadata": {},
   "outputs": [
    {
     "name": "stdout",
     "output_type": "stream",
     "text": [
      "Order Statistics:\n",
      "Total Products Ordered: 2\n",
      "Percentage of Products Ordered: 40.0%\n",
      "None\n"
     ]
    }
   ],
   "source": [
    "# # Define a function named print_order_statistics that takes order_statistics as a parameter. \n",
    "# Inside the function, implement the code for printing the order statistics.\n",
    "\n",
    "def print_order_statistics(order_statistics):\n",
    "        print(print(f'Order Statistics:\\nTotal Products Ordered: {order_statistics[0]}\\nPercentage of Products Ordered: {order_statistics[1]}%'))\n",
    "\n",
    "        \n",
    "print_order_statistics(calculate_order_statistics(customer_orders, products))"
   ]
  },
  {
   "cell_type": "code",
   "execution_count": 39,
   "metadata": {
    "scrolled": true
   },
   "outputs": [
    {
     "name": "stdout",
     "output_type": "stream",
     "text": [
      "Current Inventory Status:\n",
      "-------------------------\n",
      "t-shirt: 10\n",
      "mug: 9\n",
      "hat: 10\n",
      "book: 10\n",
      "keychain: 9\n"
     ]
    }
   ],
   "source": [
    "# Define a function named def print_updated_inventory that takes inventory as a parameter. Inside the function, \n",
    "# implement the code for printing the updated inventory.\n",
    "\n",
    "def print_updated_inventory(inventory):\n",
    "    print(f'Current Inventory Status:\\n{\"-\"*25}')\n",
    "    for key, value in inventory.items():\n",
    "        print(f'{key}: {value}')\n",
    "\n",
    "print_updated_inventory(inventory)"
   ]
  },
  {
   "cell_type": "markdown",
   "metadata": {},
   "source": [
    "## Flow of action using functions only:\n",
    "Call the functions in the appropriate sequence to execute the program and manage customer orders.\n",
    "\n"
   ]
  },
  {
   "cell_type": "code",
   "execution_count": 41,
   "metadata": {},
   "outputs": [
    {
     "name": "stdout",
     "output_type": "stream",
     "text": [
      "Enter quantity of product t-shirt: 10\n",
      "Enter quantity of product mug: 10\n",
      "Enter quantity of product hat: 10\n",
      "Enter quantity of product book: 10\n",
      "Enter quantity of product keychain: 10\n"
     ]
    },
    {
     "data": {
      "text/plain": [
       "{'t-shirt': 10, 'mug': 10, 'hat': 10, 'book': 10, 'keychain': 10}"
      ]
     },
     "execution_count": 41,
     "metadata": {},
     "output_type": "execute_result"
    }
   ],
   "source": [
    "init_inventory(products)\n",
    "inventory"
   ]
  },
  {
   "cell_type": "code",
   "execution_count": 43,
   "metadata": {
    "scrolled": true
   },
   "outputs": [
    {
     "name": "stdout",
     "output_type": "stream",
     "text": [
      "Enter products for order:keychain\n",
      "Would you like to order another product (yes/no): yes\n",
      "Enter products for order:book\n",
      "Would you like to order another product (yes/no): yes\n",
      "Enter products for order:mug\n",
      "Would you like to order another product (yes/no): no\n"
     ]
    },
    {
     "data": {
      "text/plain": [
       "{'book', 'keychain', 'mug'}"
      ]
     },
     "execution_count": 43,
     "metadata": {},
     "output_type": "execute_result"
    }
   ],
   "source": [
    "get_customer_orders()"
   ]
  },
  {
   "cell_type": "code",
   "execution_count": 44,
   "metadata": {},
   "outputs": [
    {
     "name": "stdout",
     "output_type": "stream",
     "text": [
      "{'t-shirt': 10, 'mug': 9, 'hat': 10, 'book': 9, 'keychain': 9}\n"
     ]
    }
   ],
   "source": [
    "update_inventory(customer_orders, inventory)\n"
   ]
  },
  {
   "cell_type": "code",
   "execution_count": 45,
   "metadata": {},
   "outputs": [
    {
     "data": {
      "text/plain": [
       "(3, 60.0)"
      ]
     },
     "execution_count": 45,
     "metadata": {},
     "output_type": "execute_result"
    }
   ],
   "source": [
    "calculate_order_statistics(customer_orders, products)"
   ]
  },
  {
   "cell_type": "code",
   "execution_count": 46,
   "metadata": {},
   "outputs": [
    {
     "name": "stdout",
     "output_type": "stream",
     "text": [
      "Order Statistics:\n",
      "Total Products Ordered: 3\n",
      "Percentage of Products Ordered: 60.0%\n",
      "None\n"
     ]
    }
   ],
   "source": [
    "print_order_statistics(calculate_order_statistics(customer_orders, products))"
   ]
  },
  {
   "cell_type": "code",
   "execution_count": 47,
   "metadata": {
    "scrolled": false
   },
   "outputs": [
    {
     "name": "stdout",
     "output_type": "stream",
     "text": [
      "Current Inventory Status:\n",
      "-------------------------\n",
      "t-shirt: 10\n",
      "mug: 9\n",
      "hat: 10\n",
      "book: 9\n",
      "keychain: 9\n"
     ]
    }
   ],
   "source": [
    "print_updated_inventory(inventory)"
   ]
  }
 ],
 "metadata": {
  "kernelspec": {
   "display_name": "Python 3 (ipykernel)",
   "language": "python",
   "name": "python3"
  },
  "language_info": {
   "codemirror_mode": {
    "name": "ipython",
    "version": 3
   },
   "file_extension": ".py",
   "mimetype": "text/x-python",
   "name": "python",
   "nbconvert_exporter": "python",
   "pygments_lexer": "ipython3",
   "version": "3.11.5"
  }
 },
 "nbformat": 4,
 "nbformat_minor": 4
}
