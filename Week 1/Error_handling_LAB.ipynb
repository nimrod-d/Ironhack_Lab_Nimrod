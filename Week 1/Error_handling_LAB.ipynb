{
 "cells": [
  {
   "cell_type": "markdown",
   "metadata": {},
   "source": [
    "## Error Handling Lab - Nimrod\n"
   ]
  },
  {
   "cell_type": "code",
   "execution_count": null,
   "metadata": {},
   "outputs": [],
   "source": [
    "products = [\"t-shirt\", \"mug\", \"hat\", \"book\", \"keychain\"]\n",
    "\n",
    "def initialize_inventory(products):\n",
    "    inventory = {}\n",
    "    for product in products:\n",
    "        valid_quantity = False\n",
    "        while not valid_quantity:\n",
    "            try:\n",
    "                quantity = int(input(f\"Enter the quantity of {product}s available: \"))\n",
    "                if quantity < 0:\n",
    "                    raise ValueError(\"Invalid quantity! Please enter a non-negative value.\")\n",
    "                valid_quantity = True\n",
    "            except ValueError as error:\n",
    "                print(f\"Error: {error}\")\n",
    "        inventory[product] = quantity\n",
    "    return inventory\n"
   ]
  },
  {
   "cell_type": "markdown",
   "metadata": {},
   "source": [
    "#### Modify the get_customer_orders function to include error handling.\n",
    "\n",
    "- If the user enters an invalid number of orders (e.g., a negative value or a non-numeric value), display an error message and ask them to re-enter the number of orders.\n",
    "- If the user enters an invalid product name (e.g., a product name that is not in the inventory), or that doesn't have stock available, display an error message and ask them to re-enter the product name. Hint: you will need to pass inventory as a parameter\n",
    "- Use a try-except block to handle the error and continue prompting the user until a valid product name is entered."
   ]
  },
  {
   "cell_type": "code",
   "execution_count": null,
   "metadata": {},
   "outputs": [],
   "source": [
    "#Working version!\n",
    "\n",
    "def get_customer_orders(inventory):\n",
    "    \n",
    "    customer_orders = set()\n",
    "    \n",
    "    try:\n",
    "        num_of_orders = int(input(\"Enter amount of products you want to order: \"))\n",
    "        if (num_of_orders < 0):\n",
    "            raise ValueError(\"Positive number only\")\n",
    "    except ValueError:\n",
    "        print(\"Positive number only\")\n",
    "    except:\n",
    "        print('Seems like there is a problem')\n",
    "            \n",
    "            \n",
    "    for i in range(num_of_orders):\n",
    "        while True:\n",
    "            try:\n",
    "                product = input(\"Enter name of product: \")\n",
    "                if product not in inventory or inventory[product] == 0:\n",
    "                    raise Exception\n",
    "                customer_orders.add(product)\n",
    "                break\n",
    "            except Exception:\n",
    "                print(\"Product not existing or not in stock\")\n",
    "                    \n",
    "    return customer_orders\n",
    "        \n",
    "    \n",
    "# get_customer_orders(inventory)\n",
    "\n",
    "    \n"
   ]
  },
  {
   "cell_type": "markdown",
   "metadata": {},
   "source": [
    "#### Modify the calculate_total_price function to include error handling.\n",
    "\n",
    "- If the user enters an invalid price (e.g., a negative value or a non-numeric value), display an error message and ask them to re-enter the price for that product.\n",
    "- Use a try-except block to handle the error and continue prompting the user until a valid price is entered."
   ]
  },
  {
   "cell_type": "code",
   "execution_count": 33,
   "metadata": {
    "scrolled": false
   },
   "outputs": [
    {
     "name": "stdout",
     "output_type": "stream",
     "text": [
      "Enter products price: 2\n",
      "Enter products price: 2\n"
     ]
    },
    {
     "data": {
      "text/plain": [
       "(4, {'book', 'mug'})"
      ]
     },
     "execution_count": 33,
     "metadata": {},
     "output_type": "execute_result"
    }
   ],
   "source": [
    "\n",
    "def total_price(customer_orders):\n",
    "    \n",
    "    total_amount = 0\n",
    "    \n",
    "    for product in customer_orders:\n",
    "        while True:\n",
    "            try:\n",
    "\n",
    "                price = int(input(\"Enter products price: \"))\n",
    "                if price < 0:\n",
    "                    raise Exception\n",
    "                total_amount += price\n",
    "                break\n",
    "            except Exception:\n",
    "                print('Please enter positive numbers only')\n",
    "\n",
    "    return total_amount, customer_orders\n",
    "\n"
   ]
  },
  {
   "cell_type": "code",
   "execution_count": null,
   "metadata": {},
   "outputs": [],
   "source": [
    "def update_inventory(customer_orders, inventory):\n",
    "    \n",
    "    for product in customer_orders:\n",
    "        if product in inventory:\n",
    "            inventory[product] -= 1\n",
    "    print(inventory)\n",
    "    \n",
    "    inventory = {product: count for product, count in inventory.items() if count > 0}\n",
    "    print(inventory)\n",
    "        "
   ]
  },
  {
   "cell_type": "code",
   "execution_count": 35,
   "metadata": {},
   "outputs": [
    {
     "name": "stdout",
     "output_type": "stream",
     "text": [
      "Enter the quantity of t-shirts available: 2\n",
      "Enter the quantity of mugs available: 0\n",
      "Enter the quantity of hats available: -2\n",
      "Error: Invalid quantity! Please enter a non-negative value.\n",
      "Enter the quantity of hats available: 2\n",
      "Enter the quantity of books available: five\n",
      "Error: invalid literal for int() with base 10: 'five'\n",
      "Enter the quantity of books available: 3\n",
      "Enter the quantity of keychains available: 4\n",
      "Enter amount of products you want to order: 3\n",
      "Enter name of product: car\n",
      "Product not existing or not in stock\n",
      "Enter name of product: mug\n",
      "Product not existing or not in stock\n",
      "Enter name of product: book\n",
      "Enter name of product: keychain\n",
      "Enter name of product: t-shirt\n",
      "Enter products price: -1\n",
      "Please enter positive numbers only\n",
      "Enter products price: a\n",
      "Please enter positive numbers only\n",
      "Enter products price: 12\n",
      "Enter products price: 21\n",
      "Enter products price: 6\n",
      "{'t-shirt': 1, 'mug': 0, 'hat': 2, 'book': 2, 'keychain': 3}\n",
      "{'t-shirt': 1, 'hat': 2, 'book': 2, 'keychain': 3}\n",
      "Total Price: 39\n"
     ]
    }
   ],
   "source": [
    "\n",
    "inventory = initialize_inventory(products)\n",
    "results_tuple = total_price(get_customer_orders(inventory))\n",
    "update_inventory(results_tuple[1], inventory)\n",
    "print(f'Total Price: {results_tuple[0]}')\n",
    "\n",
    "\n",
    "\n",
    "\n",
    "\n"
   ]
  }
 ],
 "metadata": {
  "kernelspec": {
   "display_name": "Python 3 (ipykernel)",
   "language": "python",
   "name": "python3"
  },
  "language_info": {
   "codemirror_mode": {
    "name": "ipython",
    "version": 3
   },
   "file_extension": ".py",
   "mimetype": "text/x-python",
   "name": "python",
   "nbconvert_exporter": "python",
   "pygments_lexer": "ipython3",
   "version": "3.11.5"
  }
 },
 "nbformat": 4,
 "nbformat_minor": 4
}
