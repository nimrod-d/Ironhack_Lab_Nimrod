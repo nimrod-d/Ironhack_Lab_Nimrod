{
 "cells": [
  {
   "cell_type": "code",
   "execution_count": 63,
   "id": "979dce6e",
   "metadata": {},
   "outputs": [],
   "source": [
    "import time \n",
    "\n",
    "def start_timer():\n",
    "    return time.time()\n",
    "\n",
    "def stop_timer(start_time):\n",
    "    elapsed_time = time.time() - start_time\n",
    "    current_time = time.strftime(\"H%:M%:S%\", elapsed_time)\n",
    "    print(f\"Game finished in: {current_time:.2f}\")"
   ]
  },
  {
   "cell_type": "code",
   "execution_count": 64,
   "id": "d7f5956d",
   "metadata": {},
   "outputs": [
    {
     "data": {
      "text/plain": [
       "float"
      ]
     },
     "execution_count": 64,
     "metadata": {},
     "output_type": "execute_result"
    }
   ],
   "source": [
    "start_time = start_timer()\n",
    "type(start_time)"
   ]
  },
  {
   "cell_type": "code",
   "execution_count": 65,
   "id": "b04f2e78",
   "metadata": {},
   "outputs": [
    {
     "ename": "TypeError",
     "evalue": "Tuple or struct_time argument required",
     "output_type": "error",
     "traceback": [
      "\u001b[1;31m---------------------------------------------------------------------------\u001b[0m",
      "\u001b[1;31mTypeError\u001b[0m                                 Traceback (most recent call last)",
      "Cell \u001b[1;32mIn[65], line 1\u001b[0m\n\u001b[1;32m----> 1\u001b[0m stop_timer(start_time)\n",
      "Cell \u001b[1;32mIn[63], line 8\u001b[0m, in \u001b[0;36mstop_timer\u001b[1;34m(start_time)\u001b[0m\n\u001b[0;32m      6\u001b[0m \u001b[38;5;28;01mdef\u001b[39;00m \u001b[38;5;21mstop_timer\u001b[39m(start_time):\n\u001b[0;32m      7\u001b[0m     elapsed_time \u001b[38;5;241m=\u001b[39m time\u001b[38;5;241m.\u001b[39mtime() \u001b[38;5;241m-\u001b[39m start_time\n\u001b[1;32m----> 8\u001b[0m     current_time \u001b[38;5;241m=\u001b[39m time\u001b[38;5;241m.\u001b[39mstrftime(\u001b[38;5;124m\"\u001b[39m\u001b[38;5;124mH\u001b[39m\u001b[38;5;124m%\u001b[39m\u001b[38;5;124m:M\u001b[39m\u001b[38;5;124m%\u001b[39m\u001b[38;5;124m:S\u001b[39m\u001b[38;5;124m%\u001b[39m\u001b[38;5;124m\"\u001b[39m, elapsed_time)\n\u001b[0;32m      9\u001b[0m     \u001b[38;5;28mprint\u001b[39m(\u001b[38;5;124mf\u001b[39m\u001b[38;5;124m\"\u001b[39m\u001b[38;5;124mGame finished in: \u001b[39m\u001b[38;5;132;01m{\u001b[39;00mcurrent_time\u001b[38;5;132;01m:\u001b[39;00m\u001b[38;5;124m.2f\u001b[39m\u001b[38;5;132;01m}\u001b[39;00m\u001b[38;5;124m\"\u001b[39m)\n",
      "\u001b[1;31mTypeError\u001b[0m: Tuple or struct_time argument required"
     ]
    }
   ],
   "source": [
    "stop_timer(start_time)\n"
   ]
  },
  {
   "cell_type": "code",
   "execution_count": 33,
   "id": "6d4563b9",
   "metadata": {},
   "outputs": [],
   "source": [
    "# t = time.localtime()\n",
    "# current_time = time.strftime(\"H%:M%:S%\", t)\n",
    "# print(current_time)"
   ]
  }
 ],
 "metadata": {
  "kernelspec": {
   "display_name": "Python 3 (ipykernel)",
   "language": "python",
   "name": "python3"
  },
  "language_info": {
   "codemirror_mode": {
    "name": "ipython",
    "version": 3
   },
   "file_extension": ".py",
   "mimetype": "text/x-python",
   "name": "python",
   "nbconvert_exporter": "python",
   "pygments_lexer": "ipython3",
   "version": "3.11.5"
  }
 },
 "nbformat": 4,
 "nbformat_minor": 5
}
