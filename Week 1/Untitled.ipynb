{
 "cells": [
  {
   "cell_type": "code",
   "execution_count": 45,
   "id": "1d89182e",
   "metadata": {},
   "outputs": [],
   "source": [
    "import time \n",
    "\n",
    "def start_timer():\n",
    "    return time.time()\n",
    "\n",
    "def stop_timer(start_time):\n",
    "    elapsed_time = time.time() - start_time\n",
    "    print(f\"Game finished in: {elapsed_time:.2f} seconds.\")"
   ]
  },
  {
   "cell_type": "code",
   "execution_count": 46,
   "id": "4b32b052",
   "metadata": {},
   "outputs": [],
   "source": [
    "start_time = start_timer()\n"
   ]
  },
  {
   "cell_type": "code",
   "execution_count": 47,
   "id": "dfa527bc",
   "metadata": {},
   "outputs": [
    {
     "name": "stdout",
     "output_type": "stream",
     "text": [
      "Game finished in: 1.36 seconds.\n"
     ]
    }
   ],
   "source": [
    "stop_timer(start_time)\n"
   ]
  },
  {
   "cell_type": "code",
   "execution_count": 33,
   "id": "67f42ede",
   "metadata": {},
   "outputs": [],
   "source": [
    "# t = time.localtime()\n",
    "# current_time = time.strftime(\"H%:M%:S%\", t)\n",
    "# print(current_time)"
   ]
  }
 ],
 "metadata": {
  "kernelspec": {
   "display_name": "Python 3 (ipykernel)",
   "language": "python",
   "name": "python3"
  },
  "language_info": {
   "codemirror_mode": {
    "name": "ipython",
    "version": 3
   },
   "file_extension": ".py",
   "mimetype": "text/x-python",
   "name": "python",
   "nbconvert_exporter": "python",
   "pygments_lexer": "ipython3",
   "version": "3.11.5"
  }
 },
 "nbformat": 4,
 "nbformat_minor": 5
}
