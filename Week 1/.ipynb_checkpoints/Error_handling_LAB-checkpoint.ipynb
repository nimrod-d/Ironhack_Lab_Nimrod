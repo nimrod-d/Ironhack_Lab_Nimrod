{
 "cells": [
  {
   "cell_type": "markdown",
   "metadata": {
    "tags": []
   },
   "source": [
    "# Lab | Data Structures "
   ]
  },
  {
   "cell_type": "markdown",
   "metadata": {},
   "source": [
    "## Exercise: Managing Customer Orders\n",
    "\n",
    "As part of a business venture, you are starting an online store that sells various products. To ensure smooth operations, you need to develop a program that manages customer orders and inventory.\n",
    "\n",
    "Follow the steps below to complete the exercise:\n",
    "\n",
    "1. Define a list called `products` that contains the following items: \"t-shirt\", \"mug\", \"hat\", \"book\", \"keychain\".\n",
    "\n",
    "2. Create an empty dictionary called `inventory`.\n",
    "\n",
    "3. Ask the user to input the quantity of each product available in the inventory. Use the product names from the `products` list as keys in the `inventory` dictionary and assign the respective quantities as values.\n",
    "\n",
    "4. Create an empty set called `customer_orders`.\n",
    "\n",
    "5. Ask the user to input the name of three products that a customer wants to order (from those in the products list, meaning three products out of \"t-shirt\", \"mug\", \"hat\", \"book\" or \"keychain\". Add each product name to the `customer_orders` set.\n",
    "\n",
    "6. Print the products in the `customer_orders` set.\n",
    "\n",
    "7. Calculate the following order statistics:\n",
    "   - Total Products Ordered: The total number of products in the `customer_orders` set.\n",
    "   - Percentage of Products Ordered: The percentage of products ordered compared to the total available products.\n",
    "   \n",
    "   Store these statistics in a tuple called `order_status`.\n",
    "\n",
    "8. Print the order statistics using the following format:\n",
    "   ```\n",
    "   Order Statistics:\n",
    "   Total Products Ordered: <total_products_ordered>\n",
    "   Percentage of Products Ordered: <percentage_ordered>% \n",
    "   ```\n",
    "\n",
    "9. Update the inventory by subtracting 1 from the quantity of each product. Modify the `inventory` dictionary accordingly.\n",
    "\n",
    "10. Print the updated inventory, displaying the quantity of each product on separate lines.\n",
    "\n",
    "Solve the exercise by implementing the steps using the Python concepts of lists, dictionaries, sets, and basic input/output operations. "
   ]
  },
  {
   "cell_type": "code",
   "execution_count": null,
   "metadata": {},
   "outputs": [],
   "source": [
    "# products = [\"t-shirt\", \"mug\", \"hat\", \"book\", \"keychain\"]\n",
    "# inventory = {}\n",
    "\n",
    "# inventory = {product: int(input(f\"Enter quantity of product {product}: \")) for product in products}\n",
    "\n",
    "# print(inventory)"
   ]
  },
  {
   "cell_type": "code",
   "execution_count": null,
   "metadata": {},
   "outputs": [],
   "source": [
    "products = [\"t-shirt\", \"mug\", \"hat\", \"book\", \"keychain\"]\n",
    "\n",
    "def initialize_inventory(products):\n",
    "    inventory = {}\n",
    "    for product in products:\n",
    "        valid_quantity = False\n",
    "        while not valid_quantity:\n",
    "            try:\n",
    "                quantity = int(input(f\"Enter the quantity of {product}s available: \"))\n",
    "                if quantity < 0:\n",
    "                    raise ValueError(\"Invalid quantity! Please enter a non-negative value.\")\n",
    "                valid_quantity = True\n",
    "            except ValueError as error:\n",
    "                print(f\"Error: {error}\")\n",
    "        inventory[product] = quantity\n",
    "    return inventory\n"
   ]
  },
  {
   "cell_type": "markdown",
   "metadata": {},
   "source": [
    "#### Modify the get_customer_orders function to include error handling.\n",
    "\n",
    "- If the user enters an invalid number of orders (e.g., a negative value or a non-numeric value), display an error message and ask them to re-enter the number of orders.\n",
    "- If the user enters an invalid product name (e.g., a product name that is not in the inventory), or that doesn't have stock available, display an error message and ask them to re-enter the product name. Hint: you will need to pass inventory as a parameter\n",
    "- Use a try-except block to handle the error and continue prompting the user until a valid product name is entered."
   ]
  },
  {
   "cell_type": "code",
   "execution_count": null,
   "metadata": {},
   "outputs": [],
   "source": [
    "#Working version!\n",
    "\n",
    "def get_customer_orders(inventory):\n",
    "    \n",
    "    customer_orders = set()\n",
    "    \n",
    "    try:\n",
    "        num_of_orders = int(input(\"Enter amount of products you want to order: \"))\n",
    "        if (num_of_orders < 0):\n",
    "            raise ValueError(\"Positive number only\")\n",
    "    except ValueError:\n",
    "        print(\"Positive number only\")\n",
    "    except:\n",
    "        print('Seems like there is a problem')\n",
    "            \n",
    "            \n",
    "    for i in range(num_of_orders):\n",
    "        while True:\n",
    "            try:\n",
    "                product = input(\"Enter name of product: \")\n",
    "                if product not in inventory or inventory[product] == 0:\n",
    "                    raise Exception\n",
    "                customer_orders.add(product)\n",
    "                break\n",
    "            except Exception:\n",
    "                print(\"Product not existing or not in stock\")\n",
    "                    \n",
    "    return customer_orders\n",
    "        \n",
    "    \n",
    "# get_customer_orders(inventory)\n",
    "\n",
    "    \n"
   ]
  },
  {
   "cell_type": "markdown",
   "metadata": {},
   "source": [
    "#### Modify the calculate_total_price function to include error handling.\n",
    "\n",
    "- If the user enters an invalid price (e.g., a negative value or a non-numeric value), display an error message and ask them to re-enter the price for that product.\n",
    "- Use a try-except block to handle the error and continue prompting the user until a valid price is entered."
   ]
  },
  {
   "cell_type": "code",
   "execution_count": 33,
   "metadata": {
    "scrolled": false
   },
   "outputs": [
    {
     "name": "stdout",
     "output_type": "stream",
     "text": [
      "Enter products price: 2\n",
      "Enter products price: 2\n"
     ]
    },
    {
     "data": {
      "text/plain": [
       "(4, {'book', 'mug'})"
      ]
     },
     "execution_count": 33,
     "metadata": {},
     "output_type": "execute_result"
    }
   ],
   "source": [
    "\n",
    "def total_price(customer_orders):\n",
    "    \n",
    "    total_amount = 0\n",
    "    \n",
    "    for product in customer_orders:\n",
    "        while True:\n",
    "            try:\n",
    "\n",
    "                price = int(input(\"Enter products price: \"))\n",
    "                if price < 0:\n",
    "                    raise Exception\n",
    "                total_amount += price\n",
    "                break\n",
    "            except Exception:\n",
    "                print('Please enter positive numbers only')\n",
    "\n",
    "    return total_amount, customer_orders\n",
    "\n"
   ]
  },
  {
   "cell_type": "code",
   "execution_count": null,
   "metadata": {},
   "outputs": [],
   "source": [
    "def update_inventory(customer_orders, inventory):\n",
    "    \n",
    "    for product in customer_orders:\n",
    "        if product in inventory:\n",
    "            inventory[product] -= 1\n",
    "    print(inventory)\n",
    "    \n",
    "    inventory = {product: count for product, count in inventory.items() if count > 0}\n",
    "    print(inventory)\n",
    "        "
   ]
  },
  {
   "cell_type": "code",
   "execution_count": 34,
   "metadata": {},
   "outputs": [
    {
     "name": "stdout",
     "output_type": "stream",
     "text": [
      "Enter the quantity of t-shirts available: 2\n",
      "Enter the quantity of mugs available: 0\n",
      "Enter the quantity of hats available: 0\n",
      "Enter the quantity of books available: 3\n",
      "Enter the quantity of keychains available: 1\n",
      "Enter amount of products you want to order: 3\n",
      "Enter name of product: car\n",
      "Product not existing or not in stock\n",
      "Enter name of product: mug\n",
      "Product not existing or not in stock\n",
      "Enter name of product: hat\n",
      "Product not existing or not in stock\n",
      "Enter name of product: book\n",
      "Enter name of product: keycain\n",
      "Product not existing or not in stock\n",
      "Enter name of product: keychain\n",
      "Enter name of product: t-shirt\n",
      "Enter products price: -2\n",
      "Please enter positive numbers only\n",
      "Enter products price: five\n",
      "Please enter positive numbers only\n",
      "Enter products price: 5\n",
      "Enter products price: 12\n",
      "Enter products price: 9\n",
      "{'t-shirt': 1, 'mug': 0, 'hat': 0, 'book': 2, 'keychain': 0}\n",
      "{'t-shirt': 1, 'book': 2}\n",
      "Total Price: 26\n"
     ]
    }
   ],
   "source": [
    "\n",
    "inventory = initialize_inventory(products)\n",
    "results_tuple = total_price(get_customer_orders(inventory))\n",
    "update_inventory(results_tuple[1], inventory)\n",
    "print(f'Total Price: {results_tuple[0]}')\n",
    "\n",
    "\n",
    "\n",
    "\n",
    "\n"
   ]
  }
 ],
 "metadata": {
  "kernelspec": {
   "display_name": "Python 3 (ipykernel)",
   "language": "python",
   "name": "python3"
  },
  "language_info": {
   "codemirror_mode": {
    "name": "ipython",
    "version": 3
   },
   "file_extension": ".py",
   "mimetype": "text/x-python",
   "name": "python",
   "nbconvert_exporter": "python",
   "pygments_lexer": "ipython3",
   "version": "3.11.5"
  }
 },
 "nbformat": 4,
 "nbformat_minor": 4
}
