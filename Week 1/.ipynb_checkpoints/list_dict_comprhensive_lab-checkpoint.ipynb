{
 "cells": [
  {
   "cell_type": "markdown",
   "metadata": {
    "tags": []
   },
   "source": [
    "# Lab | Data Structures "
   ]
  },
  {
   "cell_type": "markdown",
   "metadata": {},
   "source": [
    "## Exercise: Managing Customer Orders\n",
    "\n",
    "As part of a business venture, you are starting an online store that sells various products. To ensure smooth operations, you need to develop a program that manages customer orders and inventory.\n",
    "\n",
    "Follow the steps below to complete the exercise:\n",
    "\n",
    "1. Define a list called `products` that contains the following items: \"t-shirt\", \"mug\", \"hat\", \"book\", \"keychain\".\n",
    "\n",
    "2. Create an empty dictionary called `inventory`.\n",
    "\n",
    "3. Ask the user to input the quantity of each product available in the inventory. Use the product names from the `products` list as keys in the `inventory` dictionary and assign the respective quantities as values.\n",
    "\n",
    "4. Create an empty set called `customer_orders`.\n",
    "\n",
    "5. Ask the user to input the name of three products that a customer wants to order (from those in the products list, meaning three products out of \"t-shirt\", \"mug\", \"hat\", \"book\" or \"keychain\". Add each product name to the `customer_orders` set.\n",
    "\n",
    "6. Print the products in the `customer_orders` set.\n",
    "\n",
    "7. Calculate the following order statistics:\n",
    "   - Total Products Ordered: The total number of products in the `customer_orders` set.\n",
    "   - Percentage of Products Ordered: The percentage of products ordered compared to the total available products.\n",
    "   \n",
    "   Store these statistics in a tuple called `order_status`.\n",
    "\n",
    "8. Print the order statistics using the following format:\n",
    "   ```\n",
    "   Order Statistics:\n",
    "   Total Products Ordered: <total_products_ordered>\n",
    "   Percentage of Products Ordered: <percentage_ordered>% \n",
    "   ```\n",
    "\n",
    "9. Update the inventory by subtracting 1 from the quantity of each product. Modify the `inventory` dictionary accordingly.\n",
    "\n",
    "10. Print the updated inventory, displaying the quantity of each product on separate lines.\n",
    "\n",
    "Solve the exercise by implementing the steps using the Python concepts of lists, dictionaries, sets, and basic input/output operations. "
   ]
  },
  {
   "cell_type": "code",
   "execution_count": 33,
   "metadata": {},
   "outputs": [
    {
     "name": "stdout",
     "output_type": "stream",
     "text": [
      "Enter quantity of product t-shirt: 1\n",
      "Enter quantity of product mug: 1\n",
      "Enter quantity of product hat: 1\n",
      "Enter quantity of product book: 1\n",
      "Enter quantity of product keychain: 1\n",
      "{'t-shirt': 1, 'mug': 1, 'hat': 1, 'book': 1, 'keychain': 1}\n"
     ]
    }
   ],
   "source": [
    "products = [\"t-shirt\", \"mug\", \"hat\", \"book\", \"keychain\"]\n",
    "inventory = {}\n",
    "\n",
    "inventory = {product: int(input(f\"Enter quantity of product {product}: \")) for product in products}\n",
    "\n",
    "print(inventory)"
   ]
  },
  {
   "cell_type": "code",
   "execution_count": 34,
   "metadata": {},
   "outputs": [],
   "source": [
    "\n",
    "def get_customer_orders():\n",
    "    \n",
    "    num_of_orders = int(input(\"Enter amount of products you want to order: \"))\n",
    "    customer_orders = {input(\"Enter name of product: \") for i in range(num_of_orders)}\n",
    "\n",
    "        \n",
    "\n",
    "    return customer_orders\n",
    "    \n",
    "# get_customer_orders()\n"
   ]
  },
  {
   "cell_type": "code",
   "execution_count": 35,
   "metadata": {
    "scrolled": false
   },
   "outputs": [
    {
     "name": "stdout",
     "output_type": "stream",
     "text": [
      "Enter amount of products you want to order: 2\n",
      "Enter name of product: book\n",
      "Enter name of product: mug\n",
      "Enter products price: 10\n",
      "Enter products price: 19\n"
     ]
    }
   ],
   "source": [
    "# Add a new function to calculate the total price of the customer order. \n",
    "# For each product in customer_orders, prompt the user to enter the price of that product. \n",
    "# Use comprehension to calculate the total price. Note: assume that the user can only have 1 unit of each product.\n",
    "\n",
    "def total_price(customer_orders):\n",
    "    total_amount = [int(input(\"Enter products price: \")) for product in customer_orders]\n",
    "    customer_orders = customer_orders\n",
    "    return sum(total_amount), customer_orders\n",
    "\n",
    "results_tuple = total_price(get_customer_orders())\n"
   ]
  },
  {
   "cell_type": "code",
   "execution_count": 48,
   "metadata": {},
   "outputs": [
    {
     "data": {
      "text/plain": [
       "29"
      ]
     },
     "execution_count": 48,
     "metadata": {},
     "output_type": "execute_result"
    }
   ],
   "source": [
    "results_tuple[1]\n",
    "results_tuple[0]"
   ]
  },
  {
   "cell_type": "code",
   "execution_count": 47,
   "metadata": {},
   "outputs": [
    {
     "name": "stdout",
     "output_type": "stream",
     "text": [
      "{'t-shirt': 1, 'mug': -9, 'hat': 1, 'book': -9, 'keychain': 1}\n",
      "{'t-shirt': 1, 'hat': 1, 'keychain': 1}\n"
     ]
    }
   ],
   "source": [
    "# Modify the update_inventory function to remove the product from the inventory if its quantity \n",
    "# becomes zero after fulfilling the customer orders. \n",
    "# Use comprehension to filter out the products with a quantity of zero from the inventory.\n",
    "\n",
    "\n",
    "def update_inventory(customer_orders, inventory):\n",
    "    \n",
    "    for product in customer_orders:\n",
    "        if product in inventory:\n",
    "            inventory[product] -= 1\n",
    "    print(inventory)\n",
    "    \n",
    "    inventory = {product: count for product, count in inventory.items() if count > 0}\n",
    "    print(inventory)\n",
    "            \n",
    "update_inventory(results_tuple[1], inventory)\n",
    "\n",
    "    \n"
   ]
  },
  {
   "cell_type": "code",
   "execution_count": 53,
   "metadata": {},
   "outputs": [
    {
     "name": "stdout",
     "output_type": "stream",
     "text": [
      "Enter quantity of product t-shirt: 1\n",
      "Enter quantity of product mug: 1\n",
      "Enter quantity of product hat: 1\n",
      "Enter quantity of product book: 1\n",
      "Enter quantity of product keychain: 1\n",
      "Enter amount of products you want to order: 2\n",
      "Enter name of product: book\n",
      "Enter name of product: mug\n",
      "Enter products price: 10\n",
      "Enter products price: 12\n",
      "{'t-shirt': 1, 'mug': 0, 'hat': 1, 'book': 0, 'keychain': 1}\n",
      "{'t-shirt': 1, 'hat': 1, 'keychain': 1}\n",
      "Total Price: 22\n"
     ]
    }
   ],
   "source": [
    "# Flow of functions\n",
    "products = [\"t-shirt\", \"mug\", \"hat\", \"book\", \"keychain\"]\n",
    "inventory = {}\n",
    "\n",
    "inventory = {product: int(input(f\"Enter quantity of product {product}: \")) for product in products}\n",
    "\n",
    "results_tuple = total_price(get_customer_orders())\n",
    "update_inventory(results_tuple[1], inventory)\n",
    "print(f'Total Price: {results_tuple[0]}')\n",
    "\n",
    "\n",
    "\n",
    "\n",
    "\n"
   ]
  },
  {
   "cell_type": "code",
   "execution_count": 30,
   "metadata": {},
   "outputs": [
    {
     "data": {
      "text/plain": [
       "(2, 40.0)"
      ]
     },
     "execution_count": 30,
     "metadata": {},
     "output_type": "execute_result"
    }
   ],
   "source": [
    "# # Define a function named calculate_order_statistics that takes customer_orders and products as parameters. \n",
    "# Inside the function, implement the code for calculating the order statistics (total products ordered, and percentage of \n",
    "# unique products ordered). The function should return these values.\n",
    "\n",
    "def calculate_order_statistics(customer_orders, products):\n",
    "    total_products_ordered = len(customer_orders)\n",
    "    p_of_uniqe_proucts_ordered = (total_products_ordered / len(products)) * 100\n",
    "    \n",
    "    return (total_products_ordered, p_of_uniqe_proucts_ordered)\n",
    "\n",
    "calculate_order_statistics(customer_orders, products)"
   ]
  },
  {
   "cell_type": "code",
   "execution_count": 32,
   "metadata": {
    "scrolled": true
   },
   "outputs": [
    {
     "name": "stdout",
     "output_type": "stream",
     "text": [
      "Order Statistics:\n",
      "Total Products Ordered: 2\n",
      "Percentage of Products Ordered: 40.0%\n",
      "None\n"
     ]
    }
   ],
   "source": [
    "# # Define a function named print_order_statistics that takes order_statistics as a parameter. \n",
    "# Inside the function, implement the code for printing the order statistics.\n",
    "\n",
    "def print_order_statistics(order_statistics):\n",
    "        print(print(f'Order Statistics:\\nTotal Products Ordered: {order_statistics[0]}\\nPercentage of Products Ordered: {order_statistics[1]}%'))\n",
    "\n",
    "        \n",
    "print_order_statistics(calculate_order_statistics(customer_orders, products))"
   ]
  },
  {
   "cell_type": "code",
   "execution_count": 39,
   "metadata": {
    "scrolled": true
   },
   "outputs": [
    {
     "name": "stdout",
     "output_type": "stream",
     "text": [
      "Current Inventory Status:\n",
      "-------------------------\n",
      "t-shirt: 10\n",
      "mug: 9\n",
      "hat: 10\n",
      "book: 10\n",
      "keychain: 9\n"
     ]
    }
   ],
   "source": [
    "# Define a function named def print_updated_inventory that takes inventory as a parameter. Inside the function, \n",
    "# implement the code for printing the updated inventory.\n",
    "\n",
    "def print_updated_inventory(inventory):\n",
    "    print(f'Current Inventory Status:\\n{\"-\"*25}')\n",
    "    for key, value in inventory.items():\n",
    "        print(f'{key}: {value}')\n",
    "\n",
    "print_updated_inventory(inventory)"
   ]
  }
 ],
 "metadata": {
  "kernelspec": {
   "display_name": "Python 3 (ipykernel)",
   "language": "python",
   "name": "python3"
  },
  "language_info": {
   "codemirror_mode": {
    "name": "ipython",
    "version": 3
   },
   "file_extension": ".py",
   "mimetype": "text/x-python",
   "name": "python",
   "nbconvert_exporter": "python",
   "pygments_lexer": "ipython3",
   "version": "3.11.5"
  }
 },
 "nbformat": 4,
 "nbformat_minor": 4
}
