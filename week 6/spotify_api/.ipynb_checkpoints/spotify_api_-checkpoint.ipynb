{
 "cells": [
  {
   "cell_type": "code",
   "execution_count": 1,
   "id": "ef24f481-cce9-4f7b-9682-31ed55b1d1f8",
   "metadata": {
    "tags": []
   },
   "outputs": [],
   "source": [
    "import config"
   ]
  },
  {
   "cell_type": "code",
   "execution_count": 2,
   "id": "7d033697-35b2-4411-b5b5-67187579f3ee",
   "metadata": {
    "tags": []
   },
   "outputs": [],
   "source": [
    "import spotipy\n",
    "import numpy as np\n",
    "import pandas as pd\n",
    "from spotipy.oauth2 import SpotifyClientCredentials\n",
    "import pprint\n",
    "import matplotlib.pyplot as plt\n",
    "import pickle\n",
    "from sklearn.preprocessing import StandardScaler\n",
    "from sklearn.cluster import KMeans\n",
    "from sklearn.metrics import silhouette_score\n",
    "from IPython.display import IFrame, display\n",
    "%store -r billbord_df\n",
    "\n",
    "\n",
    "\n",
    "\n",
    "c_id = config.client_id\n",
    "c_se = config.client_secret\n",
    "\n",
    "sp = spotipy.Spotify(auth_manager=SpotifyClientCredentials(client_id=c_id, client_secret=c_se))"
   ]
  },
  {
   "cell_type": "markdown",
   "id": "3238d649-8771-4cd7-bc81-1e24596a5e88",
   "metadata": {},
   "source": [
    "## Functions "
   ]
  },
  {
   "cell_type": "code",
   "execution_count": 3,
   "id": "b36af032-e0c4-4b05-8ffd-0e731d5e162b",
   "metadata": {
    "tags": []
   },
   "outputs": [],
   "source": [
    "def get_playlist_tracks(username, playlist_id):\n",
    "    results = sp.user_playlist_tracks(username,playlist_id,market=\"GB\")\n",
    "    tracks = results['items']\n",
    "    while results['next']:\n",
    "        results = sp.next(results)\n",
    "        tracks.extend(results['items'])\n",
    "    return tracks"
   ]
  },
  {
   "cell_type": "code",
   "execution_count": 4,
   "id": "952bdc30-38c9-4c4b-bd28-45df12cc50d3",
   "metadata": {
    "tags": []
   },
   "outputs": [],
   "source": [
    "## Playlist Id's fetching (insert query request)\n",
    "\n",
    "def playlist_req(query, limit=5, type='playlist'):\n",
    "    playlist = sp.search(q=query, limit=limit, type=type)\n",
    "\n",
    "    pl_lst = []\n",
    "\n",
    "    for list_ in playlist['playlists']['items']:\n",
    "        pl_lst.append(list_['id'])\n",
    "    return pl_lst"
   ]
  },
  {
   "cell_type": "code",
   "execution_count": 5,
   "id": "d2268169-34d1-480a-bd7d-f3698ea6f635",
   "metadata": {
    "tags": []
   },
   "outputs": [
    {
     "data": {
      "text/plain": [
       "['37i9dQZF1EQncLwOalG3K7', '6mtYuOxzl58vSGnEDtZ9uB']"
      ]
     },
     "execution_count": 5,
     "metadata": {},
     "output_type": "execute_result"
    }
   ],
   "source": [
    "playlist_req(\"pop\", limit=2)"
   ]
  },
  {
   "cell_type": "code",
   "execution_count": 6,
   "id": "1f0bf7fc-d317-4f5f-8f85-49caeac4f9bd",
   "metadata": {
    "tags": []
   },
   "outputs": [],
   "source": [
    "def track_ids(query, limit_=5, type_='playlist'):\n",
    "    \n",
    "    # try:\n",
    "    pl_lst = playlist_req(query, limit=limit_, type=type_)\n",
    "    # except:\n",
    "        # print('Issue with playlist request')\n",
    "    \n",
    "    track_id_list = []\n",
    "    track_ids = []\n",
    "    \n",
    "    # try:\n",
    "    for track in pl_lst:\n",
    "        track_id_list.extend(get_playlist_tracks('Spotify', track))\n",
    "\n",
    "    for i in track_id_list:\n",
    "        track_ids.append(i['track']['id'])\n",
    "    # except:\n",
    "    #     print('Error in track id fetching')\n",
    "        \n",
    "    try:   \n",
    "        chunk_size = 100\n",
    "        track_ids_chopped = [track_ids[i:i+chunk_size] for i in range(0,len(track_ids), 100)]\n",
    "\n",
    "        af_list = []\n",
    "\n",
    "        for i in track_ids_chopped:\n",
    "            af_list.extend(sp.audio_features(i))\n",
    "        af_df = pd.DataFrame(af_list)\n",
    "    except:\n",
    "        print('Error in audio features fetching')\n",
    "\n",
    "\n",
    "    \n",
    "\n",
    "    return af_df\n",
    "        "
   ]
  },
  {
   "cell_type": "code",
   "execution_count": 7,
   "id": "24a577e6-e7eb-4ab6-a072-4870a9596f1b",
   "metadata": {
    "tags": []
   },
   "outputs": [],
   "source": [
    "# Duplicate Dropper \n",
    "\n",
    "def dup_drop(df):\n",
    "    dups = df.duplicated().sum()\n",
    "    df.drop_duplicates(inplace=True)\n",
    "\n",
    "    print(f'Dropped Duplicates: {dups}')"
   ]
  },
  {
   "cell_type": "code",
   "execution_count": 8,
   "id": "de484971-a2da-4516-bb89-3b3f8e80fc0a",
   "metadata": {
    "tags": []
   },
   "outputs": [],
   "source": [
    "# Pickle file loader \n",
    "\n",
    "def load(filename = \"filename.pickle\"): \n",
    "    try: \n",
    "        with open(filename, \"rb\") as f: \n",
    "            return pickle.load(f) \n",
    "        \n",
    "    except FileNotFoundError: \n",
    "        print(\"File not found!\") \n"
   ]
  },
  {
   "cell_type": "code",
   "execution_count": 9,
   "id": "4bb132f5-f833-4215-8bdd-89d9d090a11a",
   "metadata": {
    "tags": []
   },
   "outputs": [],
   "source": [
    "# Track player embeded\n",
    "\n",
    "def play_song(track_id):\n",
    "    return IFrame(src=\"https://open.spotify.com/embed/track/\"+track_id,\n",
    "       width=\"320\",\n",
    "       height=\"80\",\n",
    "       frameborder=\"0\",\n",
    "       allowtransparency=\"true\",\n",
    "       allow=\"encrypted-media\",\n",
    "      )"
   ]
  },
  {
   "cell_type": "code",
   "execution_count": 10,
   "id": "4c6fb2cd-3a8c-439c-a804-28c65f261c31",
   "metadata": {
    "tags": []
   },
   "outputs": [],
   "source": [
    "## Drop list\n",
    "drop = ['type', 'uri', 'track_href', 'analysis_url', 'time_signature']"
   ]
  },
  {
   "cell_type": "markdown",
   "id": "dc44bdf6-cdab-444d-b3d1-26b9c9a391d7",
   "metadata": {},
   "source": [
    "## Importing playlists"
   ]
  },
  {
   "cell_type": "code",
   "execution_count": 11,
   "id": "f3de4c09-8939-4c23-8e2a-657f92c3ffff",
   "metadata": {
    "tags": []
   },
   "outputs": [],
   "source": [
    "rock = track_ids('rock', limit_=2)"
   ]
  },
  {
   "cell_type": "code",
   "execution_count": 12,
   "id": "8e33fa82-cfd7-4ce9-af60-4db9f4935411",
   "metadata": {
    "tags": []
   },
   "outputs": [],
   "source": [
    "jazz = track_ids('jazz', limit_=4)"
   ]
  },
  {
   "cell_type": "code",
   "execution_count": 13,
   "id": "48ca9b90-50df-4c2c-9d27-c3aa7b014987",
   "metadata": {
    "tags": []
   },
   "outputs": [],
   "source": [
    "rnb = track_ids('r&b', limit_=3)"
   ]
  },
  {
   "cell_type": "code",
   "execution_count": 14,
   "id": "fdee9ad2-287e-405e-9035-98b085b12a16",
   "metadata": {
    "tags": []
   },
   "outputs": [],
   "source": [
    "afrobeat = track_ids('afrobeat', limit_=2)"
   ]
  },
  {
   "cell_type": "code",
   "execution_count": 15,
   "id": "64ce0922-d767-4e3a-ab3d-3c02ad62e58c",
   "metadata": {
    "tags": []
   },
   "outputs": [],
   "source": [
    "blues = track_ids('blues', limit_=5)"
   ]
  },
  {
   "cell_type": "code",
   "execution_count": 16,
   "id": "83de27ef-6db3-40d5-bba5-abb14662ed62",
   "metadata": {
    "tags": []
   },
   "outputs": [],
   "source": [
    "dance = track_ids('dance', limit_=5)"
   ]
  },
  {
   "cell_type": "code",
   "execution_count": 17,
   "id": "0ab4ad1f-5018-495a-899b-bb8e8c705979",
   "metadata": {
    "tags": []
   },
   "outputs": [],
   "source": [
    "hiphop = track_ids('hip hop', limit_=3)"
   ]
  },
  {
   "cell_type": "code",
   "execution_count": 18,
   "id": "38303f98-d015-4dd4-84eb-fd666b797417",
   "metadata": {},
   "outputs": [],
   "source": [
    "rocknroll = track_ids('rocknroll', limit_=2)"
   ]
  },
  {
   "cell_type": "code",
   "execution_count": 19,
   "id": "540f74f5-884e-40e1-9fad-c73fc9eb1791",
   "metadata": {},
   "outputs": [],
   "source": [
    "techno = track_ids('techno', limit_=3)"
   ]
  },
  {
   "cell_type": "code",
   "execution_count": 20,
   "id": "ba28d228-e5aa-46fa-a3d9-6c30d12ee55b",
   "metadata": {},
   "outputs": [],
   "source": [
    "rap = track_ids('rap', limit_=2)"
   ]
  },
  {
   "cell_type": "code",
   "execution_count": 21,
   "id": "d39f8bb2-45a1-4cdf-abb7-612d484eaba8",
   "metadata": {
    "tags": []
   },
   "outputs": [],
   "source": [
    "german = track_ids(\"German 80's pop\", limit_=2)"
   ]
  },
  {
   "cell_type": "code",
   "execution_count": 22,
   "id": "4b21f8f8-026d-46a5-a0aa-fd716b3e7ea0",
   "metadata": {
    "tags": []
   },
   "outputs": [],
   "source": [
    "folk = track_ids('folk', limit_=3)"
   ]
  },
  {
   "cell_type": "code",
   "execution_count": 23,
   "id": "a6af8840-64be-49b7-87d0-d024c4f92045",
   "metadata": {
    "tags": []
   },
   "outputs": [],
   "source": [
    "indie = track_ids('indie', limit_=3)"
   ]
  },
  {
   "cell_type": "code",
   "execution_count": 24,
   "id": "ca19db43-6b0c-401b-8d99-d852443a7370",
   "metadata": {},
   "outputs": [],
   "source": [
    "classic = track_ids('classic', limit_=3)"
   ]
  },
  {
   "cell_type": "code",
   "execution_count": 25,
   "id": "8611ad88-2da3-4c24-b33e-a8da6492bbfd",
   "metadata": {},
   "outputs": [],
   "source": [
    "rocknroll = track_ids('rocknroll', limit_=4)"
   ]
  },
  {
   "cell_type": "code",
   "execution_count": 26,
   "id": "f515f804-e3c6-49bb-a877-59214ac6e1c5",
   "metadata": {
    "tags": []
   },
   "outputs": [],
   "source": [
    "lst = [rock,jazz,rnb,blues,dance,afrobeat,hiphop,rocknroll,techno,rap,german,folk,indie,classic,rocknroll]"
   ]
  },
  {
   "cell_type": "markdown",
   "id": "629bc921-879d-4859-a697-e38d7b6f855a",
   "metadata": {},
   "source": [
    "## Setup"
   ]
  },
  {
   "cell_type": "code",
   "execution_count": 27,
   "id": "d98f2705-e58f-421c-a6e6-b4598e9ba147",
   "metadata": {
    "tags": []
   },
   "outputs": [],
   "source": [
    "df = pd.concat(lst, axis=0)"
   ]
  },
  {
   "cell_type": "code",
   "execution_count": 28,
   "id": "fd0cc13b-292c-4ef6-a3ca-1cb30ba5ae38",
   "metadata": {
    "tags": []
   },
   "outputs": [
    {
     "name": "stdout",
     "output_type": "stream",
     "text": [
      "<class 'pandas.core.frame.DataFrame'>\n",
      "Int64Index: 5875 entries, 0 to 479\n",
      "Data columns (total 18 columns):\n",
      " #   Column            Non-Null Count  Dtype  \n",
      "---  ------            --------------  -----  \n",
      " 0   danceability      5875 non-null   float64\n",
      " 1   energy            5875 non-null   float64\n",
      " 2   key               5875 non-null   int64  \n",
      " 3   loudness          5875 non-null   float64\n",
      " 4   mode              5875 non-null   int64  \n",
      " 5   speechiness       5875 non-null   float64\n",
      " 6   acousticness      5875 non-null   float64\n",
      " 7   instrumentalness  5875 non-null   float64\n",
      " 8   liveness          5875 non-null   float64\n",
      " 9   valence           5875 non-null   float64\n",
      " 10  tempo             5875 non-null   float64\n",
      " 11  type              5875 non-null   object \n",
      " 12  id                5875 non-null   object \n",
      " 13  uri               5875 non-null   object \n",
      " 14  track_href        5875 non-null   object \n",
      " 15  analysis_url      5875 non-null   object \n",
      " 16  duration_ms       5875 non-null   int64  \n",
      " 17  time_signature    5875 non-null   int64  \n",
      "dtypes: float64(9), int64(4), object(5)\n",
      "memory usage: 872.1+ KB\n"
     ]
    }
   ],
   "source": [
    "df.info()"
   ]
  },
  {
   "cell_type": "code",
   "execution_count": 29,
   "id": "9c9d4592-d566-4b15-af25-d149ecda6be3",
   "metadata": {
    "tags": []
   },
   "outputs": [],
   "source": [
    "af_df= df.drop(['type', 'uri', 'track_href', 'analysis_url', 'time_signature'], axis=1)"
   ]
  },
  {
   "cell_type": "code",
   "execution_count": 30,
   "id": "a6341895-b6e2-4e8f-8090-3f8e6d04c124",
   "metadata": {
    "tags": []
   },
   "outputs": [
    {
     "data": {
      "text/html": [
       "<div>\n",
       "<style scoped>\n",
       "    .dataframe tbody tr th:only-of-type {\n",
       "        vertical-align: middle;\n",
       "    }\n",
       "\n",
       "    .dataframe tbody tr th {\n",
       "        vertical-align: top;\n",
       "    }\n",
       "\n",
       "    .dataframe thead th {\n",
       "        text-align: right;\n",
       "    }\n",
       "</style>\n",
       "<table border=\"1\" class=\"dataframe\">\n",
       "  <thead>\n",
       "    <tr style=\"text-align: right;\">\n",
       "      <th></th>\n",
       "      <th>danceability</th>\n",
       "      <th>energy</th>\n",
       "      <th>key</th>\n",
       "      <th>loudness</th>\n",
       "      <th>mode</th>\n",
       "      <th>speechiness</th>\n",
       "      <th>acousticness</th>\n",
       "      <th>instrumentalness</th>\n",
       "      <th>liveness</th>\n",
       "      <th>valence</th>\n",
       "      <th>tempo</th>\n",
       "      <th>id</th>\n",
       "      <th>duration_ms</th>\n",
       "    </tr>\n",
       "  </thead>\n",
       "  <tbody>\n",
       "    <tr>\n",
       "      <th>0</th>\n",
       "      <td>0.741</td>\n",
       "      <td>0.697</td>\n",
       "      <td>0</td>\n",
       "      <td>-7.028</td>\n",
       "      <td>1</td>\n",
       "      <td>0.0277</td>\n",
       "      <td>0.066400</td>\n",
       "      <td>0.000023</td>\n",
       "      <td>0.133</td>\n",
       "      <td>0.774</td>\n",
       "      <td>116.109</td>\n",
       "      <td>2LawezPeJhN4AWuSB0GtAU</td>\n",
       "      <td>160133</td>\n",
       "    </tr>\n",
       "    <tr>\n",
       "      <th>1</th>\n",
       "      <td>0.556</td>\n",
       "      <td>0.864</td>\n",
       "      <td>3</td>\n",
       "      <td>-5.870</td>\n",
       "      <td>0</td>\n",
       "      <td>0.0584</td>\n",
       "      <td>0.009580</td>\n",
       "      <td>0.000000</td>\n",
       "      <td>0.209</td>\n",
       "      <td>0.400</td>\n",
       "      <td>105.143</td>\n",
       "      <td>60a0Rd6pjrkxjPbaKzXjfq</td>\n",
       "      <td>216880</td>\n",
       "    </tr>\n",
       "    <tr>\n",
       "      <th>2</th>\n",
       "      <td>0.515</td>\n",
       "      <td>0.430</td>\n",
       "      <td>7</td>\n",
       "      <td>-9.935</td>\n",
       "      <td>1</td>\n",
       "      <td>0.0372</td>\n",
       "      <td>0.009700</td>\n",
       "      <td>0.000133</td>\n",
       "      <td>0.129</td>\n",
       "      <td>0.104</td>\n",
       "      <td>91.844</td>\n",
       "      <td>70LcF31zb1H0PyJoS1Sx1r</td>\n",
       "      <td>238640</td>\n",
       "    </tr>\n",
       "    <tr>\n",
       "      <th>3</th>\n",
       "      <td>0.464</td>\n",
       "      <td>0.795</td>\n",
       "      <td>1</td>\n",
       "      <td>-9.267</td>\n",
       "      <td>1</td>\n",
       "      <td>0.0926</td>\n",
       "      <td>0.049300</td>\n",
       "      <td>0.002440</td>\n",
       "      <td>0.399</td>\n",
       "      <td>0.612</td>\n",
       "      <td>158.691</td>\n",
       "      <td>63T7DJ1AFDD6Bn8VzG6JE8</td>\n",
       "      <td>202267</td>\n",
       "    </tr>\n",
       "    <tr>\n",
       "      <th>4</th>\n",
       "      <td>0.417</td>\n",
       "      <td>0.934</td>\n",
       "      <td>7</td>\n",
       "      <td>-3.908</td>\n",
       "      <td>0</td>\n",
       "      <td>0.1190</td>\n",
       "      <td>0.000278</td>\n",
       "      <td>0.001500</td>\n",
       "      <td>0.132</td>\n",
       "      <td>0.287</td>\n",
       "      <td>127.066</td>\n",
       "      <td>2DlHlPMa4M17kufBvI2lEN</td>\n",
       "      <td>210240</td>\n",
       "    </tr>\n",
       "  </tbody>\n",
       "</table>\n",
       "</div>"
      ],
      "text/plain": [
       "   danceability  energy  key  loudness  mode  speechiness  acousticness  \\\n",
       "0         0.741   0.697    0    -7.028     1       0.0277      0.066400   \n",
       "1         0.556   0.864    3    -5.870     0       0.0584      0.009580   \n",
       "2         0.515   0.430    7    -9.935     1       0.0372      0.009700   \n",
       "3         0.464   0.795    1    -9.267     1       0.0926      0.049300   \n",
       "4         0.417   0.934    7    -3.908     0       0.1190      0.000278   \n",
       "\n",
       "   instrumentalness  liveness  valence    tempo                      id  \\\n",
       "0          0.000023     0.133    0.774  116.109  2LawezPeJhN4AWuSB0GtAU   \n",
       "1          0.000000     0.209    0.400  105.143  60a0Rd6pjrkxjPbaKzXjfq   \n",
       "2          0.000133     0.129    0.104   91.844  70LcF31zb1H0PyJoS1Sx1r   \n",
       "3          0.002440     0.399    0.612  158.691  63T7DJ1AFDD6Bn8VzG6JE8   \n",
       "4          0.001500     0.132    0.287  127.066  2DlHlPMa4M17kufBvI2lEN   \n",
       "\n",
       "   duration_ms  \n",
       "0       160133  \n",
       "1       216880  \n",
       "2       238640  \n",
       "3       202267  \n",
       "4       210240  "
      ]
     },
     "execution_count": 30,
     "metadata": {},
     "output_type": "execute_result"
    }
   ],
   "source": [
    "af_df.head()"
   ]
  },
  {
   "cell_type": "code",
   "execution_count": 31,
   "id": "d3d5e808-9c66-43ce-922f-5435fffba0f9",
   "metadata": {
    "tags": []
   },
   "outputs": [],
   "source": [
    "## Dropping Duplicated rows"
   ]
  },
  {
   "cell_type": "code",
   "execution_count": 32,
   "id": "537931ce-61ff-4cb2-874d-4550b535c4cb",
   "metadata": {
    "tags": []
   },
   "outputs": [
    {
     "name": "stdout",
     "output_type": "stream",
     "text": [
      "Dropped Duplicates: 1081\n"
     ]
    }
   ],
   "source": [
    "dup_drop(af_df)"
   ]
  },
  {
   "cell_type": "code",
   "execution_count": 33,
   "id": "0ab32c59-e047-46fe-ac6d-2b03c018276d",
   "metadata": {
    "tags": []
   },
   "outputs": [],
   "source": [
    "X = af_df.select_dtypes(include='number')\n"
   ]
  },
  {
   "cell_type": "code",
   "execution_count": 34,
   "id": "1cff7ea2-108a-4b07-95bf-940addd675ce",
   "metadata": {
    "tags": []
   },
   "outputs": [
    {
     "data": {
      "text/plain": [
       "(4794, 12)"
      ]
     },
     "execution_count": 34,
     "metadata": {},
     "output_type": "execute_result"
    }
   ],
   "source": [
    "X.shape"
   ]
  },
  {
   "cell_type": "markdown",
   "id": "17d0f3e5-841e-462e-84fb-7eb00b2571a8",
   "metadata": {},
   "source": [
    "## Model Fitting "
   ]
  },
  {
   "cell_type": "code",
   "execution_count": 35,
   "id": "843d1c2c-6466-4760-aa30-487e680a1e60",
   "metadata": {
    "tags": []
   },
   "outputs": [],
   "source": [
    "scaler = StandardScaler()\n",
    "scaler.fit(X)\n",
    "X_scaled = scaler.transform(X)\n",
    "X_scaled_df = pd.DataFrame(X_scaled, columns = X.columns)\n"
   ]
  },
  {
   "cell_type": "code",
   "execution_count": 36,
   "id": "d223b3b2-f10a-40a9-a276-94df1adb8196",
   "metadata": {
    "tags": []
   },
   "outputs": [
    {
     "data": {
      "text/plain": [
       "28549.354193004317"
      ]
     },
     "execution_count": 36,
     "metadata": {},
     "output_type": "execute_result"
    }
   ],
   "source": [
    "import warnings\n",
    "warnings.filterwarnings('ignore')\n",
    "\n",
    "kmeans = KMeans(n_clusters=8, random_state=1234)\n",
    "kmeans.fit(X_scaled_df)\n",
    "kmeans.inertia_\n"
   ]
  },
  {
   "cell_type": "code",
   "execution_count": 37,
   "id": "544a3df0-3953-421c-849c-a376f02a225c",
   "metadata": {
    "tags": []
   },
   "outputs": [],
   "source": [
    "labels =kmeans.labels_"
   ]
  },
  {
   "cell_type": "code",
   "execution_count": 38,
   "id": "2478ed54-d313-4890-9e58-8e76b7141b52",
   "metadata": {
    "collapsed": true,
    "jupyter": {
     "outputs_hidden": true
    },
    "tags": []
   },
   "outputs": [
    {
     "data": {
      "text/plain": [
       "0     415\n",
       "1     579\n",
       "2     560\n",
       "3     900\n",
       "4     796\n",
       "5     221\n",
       "6     307\n",
       "7    1016\n",
       "dtype: int64"
      ]
     },
     "execution_count": 38,
     "metadata": {},
     "output_type": "execute_result"
    }
   ],
   "source": [
    "clusters = kmeans.predict(X_scaled_df)\n",
    "#clusters\n",
    "pd.Series(clusters).value_counts().sort_index()"
   ]
  },
  {
   "cell_type": "code",
   "execution_count": 40,
   "id": "cb1c9f77-974b-4d40-90d4-84deee2299a4",
   "metadata": {
    "tags": []
   },
   "outputs": [
    {
     "data": {
      "text/plain": [
       "28549.354193004317"
      ]
     },
     "execution_count": 40,
     "metadata": {},
     "output_type": "execute_result"
    }
   ],
   "source": [
    "kmeans.inertia_"
   ]
  },
  {
   "cell_type": "code",
   "execution_count": 41,
   "id": "6469030c-02dc-43e3-946f-beb6b7d7f018",
   "metadata": {
    "tags": []
   },
   "outputs": [
    {
     "name": "stdout",
     "output_type": "stream",
     "text": [
      "28665.161362835726\n"
     ]
    }
   ],
   "source": [
    "kmeans2 = KMeans(n_clusters=8,\n",
    "                init=\"k-means++\",\n",
    "                n_init=4,  # try with 1, 4, 8, 20, 30, 100...\n",
    "                max_iter=7,\n",
    "                algorithm=\"elkan\",\n",
    "                random_state=42)\n",
    "kmeans2.fit(X_scaled_df)\n",
    "print(kmeans2.inertia_)"
   ]
  },
  {
   "cell_type": "markdown",
   "id": "c4e3e7a4-7439-4820-a9b0-d00b62f6f2b0",
   "metadata": {},
   "source": [
    "## Choosing K\n",
    "\n",
    "#### Elbow Method"
   ]
  },
  {
   "cell_type": "code",
   "execution_count": 42,
   "id": "d8752e91-e9f9-4057-80eb-4921d0b69d32",
   "metadata": {
    "tags": []
   },
   "outputs": [
    {
     "name": "stdout",
     "output_type": "stream",
     "text": [
      "Training a K-Means model with 2 clusters! \n",
      "\n",
      "Training a K-Means model with 3 clusters! \n",
      "\n",
      "Training a K-Means model with 4 clusters! \n",
      "\n",
      "Training a K-Means model with 5 clusters! \n",
      "\n",
      "Training a K-Means model with 6 clusters! \n",
      "\n",
      "Training a K-Means model with 7 clusters! \n",
      "\n",
      "Training a K-Means model with 8 clusters! \n",
      "\n",
      "Training a K-Means model with 9 clusters! \n",
      "\n",
      "Training a K-Means model with 10 clusters! \n",
      "\n",
      "Training a K-Means model with 11 clusters! \n",
      "\n",
      "Training a K-Means model with 12 clusters! \n",
      "\n",
      "Training a K-Means model with 13 clusters! \n",
      "\n",
      "Training a K-Means model with 14 clusters! \n",
      "\n"
     ]
    },
    {
     "data": {
      "text/plain": [
       "Text(0.5, 1.0, 'Elbow Method showing the optimal k')"
      ]
     },
     "execution_count": 42,
     "metadata": {},
     "output_type": "execute_result"
    },
    {
     "data": {
      "image/png": "[encoded data removed]",
      "text/plain": [
       "<Figure size 1600x800 with 1 Axes>"
      ]
     },
     "metadata": {},
     "output_type": "display_data"
    }
   ],
   "source": [
    "K = range(2, 15)\n",
    "inertia = []\n",
    "\n",
    "for k in K:\n",
    "    print(\"Training a K-Means model with {} clusters! \".format(k))\n",
    "    print()\n",
    "    kmeans = KMeans(n_clusters=k,\n",
    "                    random_state=1234)\n",
    "    kmeans.fit(X_scaled_df)\n",
    "    inertia.append(kmeans.inertia_)\n",
    "\n",
    "\n",
    "%matplotlib inline\n",
    "\n",
    "plt.figure(figsize=(16,8))\n",
    "plt.plot(K, inertia, 'bx-')\n",
    "plt.xlabel('k')\n",
    "plt.ylabel('inertia')\n",
    "plt.xticks(np.arange(min(K), max(K)+1, 1.0))\n",
    "plt.title('Elbow Method showing the optimal k')"
   ]
  },
  {
   "cell_type": "markdown",
   "id": "c05a1335-5edb-412f-a8f1-d380f09afd4a",
   "metadata": {},
   "source": [
    "##### Silohet Method"
   ]
  },
  {
   "cell_type": "code",
   "execution_count": 43,
   "id": "a74c727b-85ff-4f17-ae85-8a672272c7dc",
   "metadata": {
    "tags": []
   },
   "outputs": [
    {
     "data": {
      "text/plain": [
       "Text(0.5, 1.0, 'Silhouette Method showing the optimal k')"
      ]
     },
     "execution_count": 43,
     "metadata": {},
     "output_type": "execute_result"
    },
    {
     "data": {
      "image/png": "[encoded data removed]",
      "text/plain": [
       "<Figure size 1600x800 with 1 Axes>"
      ]
     },
     "metadata": {},
     "output_type": "display_data"
    }
   ],
   "source": [
    "K = range(15, 40)\n",
    "silhouette = []\n",
    "\n",
    "for k in K:\n",
    "    kmeans = KMeans(n_clusters=k,\n",
    "                    random_state=1234, n_init='auto')\n",
    "    kmeans.fit(X_scaled_df)\n",
    "    \n",
    "    filename = \"kmeans_\" + str(k) + \".pickle\"\n",
    "    with open(filename, \"wb\") as f:\n",
    "        pickle.dump(kmeans,f)\n",
    "    \n",
    "    silhouette.append(silhouette_score(X_scaled_df, kmeans.predict(X_scaled_df)))\n",
    "\n",
    "\n",
    "plt.figure(figsize=(16,8))\n",
    "plt.plot(K, silhouette, 'bx-')\n",
    "plt.xlabel('k')\n",
    "plt.ylabel('silhouette score')\n",
    "plt.xticks(np.arange(min(K), max(K)+1, 1.0))\n",
    "plt.title('Silhouette Method showing the optimal k')"
   ]
  },
  {
   "cell_type": "code",
   "execution_count": 51,
   "id": "12da0e74-c221-4c0b-a61d-21b60a448b3c",
   "metadata": {
    "tags": []
   },
   "outputs": [],
   "source": [
    "# Choice of model \n",
    "\n",
    "model_pickle = load('kmeans_33.pickle')"
   ]
  },
  {
   "cell_type": "code",
   "execution_count": 52,
   "id": "f14f8b3c-8db2-497a-b8cf-2286b9f2bf07",
   "metadata": {
    "tags": []
   },
   "outputs": [
    {
     "data": {
      "text/plain": [
       "array([32, 16, 11, ..., 16,  7,  9])"
      ]
     },
     "execution_count": 52,
     "metadata": {},
     "output_type": "execute_result"
    }
   ],
   "source": [
    "label = model_pickle.labels_\n",
    "\n",
    "label"
   ]
  },
  {
   "cell_type": "code",
   "execution_count": 75,
   "id": "2901c877-5e25-4cea-a856-d04f84453636",
   "metadata": {
    "tags": []
   },
   "outputs": [
    {
     "data": {
      "text/html": [
       "<div>\n",
       "<style scoped>\n",
       "    .dataframe tbody tr th:only-of-type {\n",
       "        vertical-align: middle;\n",
       "    }\n",
       "\n",
       "    .dataframe tbody tr th {\n",
       "        vertical-align: top;\n",
       "    }\n",
       "\n",
       "    .dataframe thead th {\n",
       "        text-align: right;\n",
       "    }\n",
       "</style>\n",
       "<table border=\"1\" class=\"dataframe\">\n",
       "  <thead>\n",
       "    <tr style=\"text-align: right;\">\n",
       "      <th></th>\n",
       "      <th>danceability</th>\n",
       "      <th>energy</th>\n",
       "      <th>key</th>\n",
       "      <th>loudness</th>\n",
       "      <th>mode</th>\n",
       "      <th>speechiness</th>\n",
       "      <th>acousticness</th>\n",
       "      <th>instrumentalness</th>\n",
       "      <th>liveness</th>\n",
       "      <th>valence</th>\n",
       "      <th>tempo</th>\n",
       "      <th>id</th>\n",
       "      <th>duration_ms</th>\n",
       "      <th>cluster</th>\n",
       "    </tr>\n",
       "  </thead>\n",
       "  <tbody>\n",
       "    <tr>\n",
       "      <th>0</th>\n",
       "      <td>0.741</td>\n",
       "      <td>0.697</td>\n",
       "      <td>0</td>\n",
       "      <td>-7.028</td>\n",
       "      <td>1</td>\n",
       "      <td>0.0277</td>\n",
       "      <td>0.06640</td>\n",
       "      <td>0.000023</td>\n",
       "      <td>0.1330</td>\n",
       "      <td>0.774</td>\n",
       "      <td>116.109</td>\n",
       "      <td>2LawezPeJhN4AWuSB0GtAU</td>\n",
       "      <td>160133</td>\n",
       "      <td>32</td>\n",
       "    </tr>\n",
       "    <tr>\n",
       "      <th>9</th>\n",
       "      <td>0.723</td>\n",
       "      <td>0.863</td>\n",
       "      <td>2</td>\n",
       "      <td>-7.890</td>\n",
       "      <td>1</td>\n",
       "      <td>0.0338</td>\n",
       "      <td>0.03830</td>\n",
       "      <td>0.031700</td>\n",
       "      <td>0.1280</td>\n",
       "      <td>0.931</td>\n",
       "      <td>136.302</td>\n",
       "      <td>2PzU4IB8Dr6mxV3lHuaG34</td>\n",
       "      <td>222813</td>\n",
       "      <td>32</td>\n",
       "    </tr>\n",
       "    <tr>\n",
       "      <th>28</th>\n",
       "      <td>0.550</td>\n",
       "      <td>0.917</td>\n",
       "      <td>0</td>\n",
       "      <td>-3.159</td>\n",
       "      <td>1</td>\n",
       "      <td>0.0638</td>\n",
       "      <td>0.00428</td>\n",
       "      <td>0.000000</td>\n",
       "      <td>0.1970</td>\n",
       "      <td>0.601</td>\n",
       "      <td>126.115</td>\n",
       "      <td>6TfBA04WJ3X1d1wXhaCFVT</td>\n",
       "      <td>177827</td>\n",
       "      <td>32</td>\n",
       "    </tr>\n",
       "    <tr>\n",
       "      <th>50</th>\n",
       "      <td>0.536</td>\n",
       "      <td>0.637</td>\n",
       "      <td>2</td>\n",
       "      <td>-7.774</td>\n",
       "      <td>1</td>\n",
       "      <td>0.0343</td>\n",
       "      <td>0.46700</td>\n",
       "      <td>0.000000</td>\n",
       "      <td>0.0838</td>\n",
       "      <td>0.798</td>\n",
       "      <td>115.240</td>\n",
       "      <td>50RwvvEKX5Q7AZt8FTAwIF</td>\n",
       "      <td>150133</td>\n",
       "      <td>32</td>\n",
       "    </tr>\n",
       "    <tr>\n",
       "      <th>57</th>\n",
       "      <td>0.654</td>\n",
       "      <td>0.929</td>\n",
       "      <td>1</td>\n",
       "      <td>-5.906</td>\n",
       "      <td>1</td>\n",
       "      <td>0.0998</td>\n",
       "      <td>0.04680</td>\n",
       "      <td>0.000000</td>\n",
       "      <td>0.0539</td>\n",
       "      <td>0.902</td>\n",
       "      <td>144.774</td>\n",
       "      <td>6KTv0Z8BmVqM7DPxbGzpVC</td>\n",
       "      <td>168840</td>\n",
       "      <td>32</td>\n",
       "    </tr>\n",
       "    <tr>\n",
       "      <th>...</th>\n",
       "      <td>...</td>\n",
       "      <td>...</td>\n",
       "      <td>...</td>\n",
       "      <td>...</td>\n",
       "      <td>...</td>\n",
       "      <td>...</td>\n",
       "      <td>...</td>\n",
       "      <td>...</td>\n",
       "      <td>...</td>\n",
       "      <td>...</td>\n",
       "      <td>...</td>\n",
       "      <td>...</td>\n",
       "      <td>...</td>\n",
       "      <td>...</td>\n",
       "    </tr>\n",
       "    <tr>\n",
       "      <th>329</th>\n",
       "      <td>0.752</td>\n",
       "      <td>0.684</td>\n",
       "      <td>0</td>\n",
       "      <td>-7.599</td>\n",
       "      <td>1</td>\n",
       "      <td>0.1500</td>\n",
       "      <td>0.09940</td>\n",
       "      <td>0.000000</td>\n",
       "      <td>0.0897</td>\n",
       "      <td>0.539</td>\n",
       "      <td>141.075</td>\n",
       "      <td>64UioB4Nmwgn2f4cbIpAkl</td>\n",
       "      <td>176440</td>\n",
       "      <td>32</td>\n",
       "    </tr>\n",
       "    <tr>\n",
       "      <th>337</th>\n",
       "      <td>0.620</td>\n",
       "      <td>0.930</td>\n",
       "      <td>1</td>\n",
       "      <td>-3.685</td>\n",
       "      <td>1</td>\n",
       "      <td>0.0374</td>\n",
       "      <td>0.00043</td>\n",
       "      <td>0.000000</td>\n",
       "      <td>0.0686</td>\n",
       "      <td>0.609</td>\n",
       "      <td>106.220</td>\n",
       "      <td>2g2a5kDeZexbUTD8abcvm6</td>\n",
       "      <td>190173</td>\n",
       "      <td>32</td>\n",
       "    </tr>\n",
       "    <tr>\n",
       "      <th>356</th>\n",
       "      <td>0.715</td>\n",
       "      <td>0.759</td>\n",
       "      <td>2</td>\n",
       "      <td>-5.125</td>\n",
       "      <td>1</td>\n",
       "      <td>0.0269</td>\n",
       "      <td>0.33700</td>\n",
       "      <td>0.000093</td>\n",
       "      <td>0.1830</td>\n",
       "      <td>0.875</td>\n",
       "      <td>121.480</td>\n",
       "      <td>5fZEzaBQnVr2kIom4DOrK1</td>\n",
       "      <td>185293</td>\n",
       "      <td>32</td>\n",
       "    </tr>\n",
       "    <tr>\n",
       "      <th>371</th>\n",
       "      <td>0.608</td>\n",
       "      <td>0.634</td>\n",
       "      <td>4</td>\n",
       "      <td>-11.240</td>\n",
       "      <td>1</td>\n",
       "      <td>0.0727</td>\n",
       "      <td>0.05680</td>\n",
       "      <td>0.006150</td>\n",
       "      <td>0.1160</td>\n",
       "      <td>0.840</td>\n",
       "      <td>147.515</td>\n",
       "      <td>72boGlgSwUK01n44O2tOCv</td>\n",
       "      <td>226947</td>\n",
       "      <td>32</td>\n",
       "    </tr>\n",
       "    <tr>\n",
       "      <th>373</th>\n",
       "      <td>0.601</td>\n",
       "      <td>0.714</td>\n",
       "      <td>4</td>\n",
       "      <td>-7.848</td>\n",
       "      <td>1</td>\n",
       "      <td>0.0392</td>\n",
       "      <td>0.02120</td>\n",
       "      <td>0.000000</td>\n",
       "      <td>0.0881</td>\n",
       "      <td>0.645</td>\n",
       "      <td>128.210</td>\n",
       "      <td>3sR4DlHGETLGfncj2PFqnI</td>\n",
       "      <td>211267</td>\n",
       "      <td>32</td>\n",
       "    </tr>\n",
       "  </tbody>\n",
       "</table>\n",
       "<p>248 rows × 14 columns</p>\n",
       "</div>"
      ],
      "text/plain": [
       "     danceability  energy  key  loudness  mode  speechiness  acousticness  \\\n",
       "0           0.741   0.697    0    -7.028     1       0.0277       0.06640   \n",
       "9           0.723   0.863    2    -7.890     1       0.0338       0.03830   \n",
       "28          0.550   0.917    0    -3.159     1       0.0638       0.00428   \n",
       "50          0.536   0.637    2    -7.774     1       0.0343       0.46700   \n",
       "57          0.654   0.929    1    -5.906     1       0.0998       0.04680   \n",
       "..            ...     ...  ...       ...   ...          ...           ...   \n",
       "329         0.752   0.684    0    -7.599     1       0.1500       0.09940   \n",
       "337         0.620   0.930    1    -3.685     1       0.0374       0.00043   \n",
       "356         0.715   0.759    2    -5.125     1       0.0269       0.33700   \n",
       "371         0.608   0.634    4   -11.240     1       0.0727       0.05680   \n",
       "373         0.601   0.714    4    -7.848     1       0.0392       0.02120   \n",
       "\n",
       "     instrumentalness  liveness  valence    tempo                      id  \\\n",
       "0            0.000023    0.1330    0.774  116.109  2LawezPeJhN4AWuSB0GtAU   \n",
       "9            0.031700    0.1280    0.931  136.302  2PzU4IB8Dr6mxV3lHuaG34   \n",
       "28           0.000000    0.1970    0.601  126.115  6TfBA04WJ3X1d1wXhaCFVT   \n",
       "50           0.000000    0.0838    0.798  115.240  50RwvvEKX5Q7AZt8FTAwIF   \n",
       "57           0.000000    0.0539    0.902  144.774  6KTv0Z8BmVqM7DPxbGzpVC   \n",
       "..                ...       ...      ...      ...                     ...   \n",
       "329          0.000000    0.0897    0.539  141.075  64UioB4Nmwgn2f4cbIpAkl   \n",
       "337          0.000000    0.0686    0.609  106.220  2g2a5kDeZexbUTD8abcvm6   \n",
       "356          0.000093    0.1830    0.875  121.480  5fZEzaBQnVr2kIom4DOrK1   \n",
       "371          0.006150    0.1160    0.840  147.515  72boGlgSwUK01n44O2tOCv   \n",
       "373          0.000000    0.0881    0.645  128.210  3sR4DlHGETLGfncj2PFqnI   \n",
       "\n",
       "     duration_ms  cluster  \n",
       "0         160133       32  \n",
       "9         222813       32  \n",
       "28        177827       32  \n",
       "50        150133       32  \n",
       "57        168840       32  \n",
       "..           ...      ...  \n",
       "329       176440       32  \n",
       "337       190173       32  \n",
       "356       185293       32  \n",
       "371       226947       32  \n",
       "373       211267       32  \n",
       "\n",
       "[248 rows x 14 columns]"
      ]
     },
     "execution_count": 75,
     "metadata": {},
     "output_type": "execute_result"
    }
   ],
   "source": [
    "\n",
    "filtered_af_df = af_df[af_df['cluster'] == 32]\n",
    "\n",
    "filtered_af_df\n"
   ]
  },
  {
   "cell_type": "code",
   "execution_count": 62,
   "id": "909dcfc1-fe33-4952-a9f5-3b2c9fd7cf95",
   "metadata": {
    "tags": []
   },
   "outputs": [],
   "source": [
    "af_df['cluster'] = label"
   ]
  },
  {
   "cell_type": "code",
   "execution_count": 68,
   "id": "105bb088-5240-4903-9bf8-ec3b9d56e3b9",
   "metadata": {
    "tags": []
   },
   "outputs": [
    {
     "data": {
      "text/plain": [
       "4     303\n",
       "32    248\n",
       "18    247\n",
       "7     214\n",
       "12    200\n",
       "3     197\n",
       "16    180\n",
       "9     178\n",
       "17    176\n",
       "20    172\n",
       "11    172\n",
       "29    171\n",
       "2     164\n",
       "27    159\n",
       "24    153\n",
       "10    152\n",
       "25    143\n",
       "30    138\n",
       "21    138\n",
       "0     134\n",
       "5     117\n",
       "23    116\n",
       "19    108\n",
       "31    107\n",
       "8      97\n",
       "13     96\n",
       "26     96\n",
       "28     82\n",
       "22     82\n",
       "6      74\n",
       "15     69\n",
       "1      68\n",
       "14     43\n",
       "Name: cluster, dtype: int64"
      ]
     },
     "execution_count": 68,
     "metadata": {},
     "output_type": "execute_result"
    }
   ],
   "source": [
    "af_df['cluster'].value_counts()"
   ]
  },
  {
   "cell_type": "markdown",
   "id": "1e2ba4e8-282e-48b3-8e7e-4a11a65ccf7c",
   "metadata": {},
   "source": [
    "## User Interface"
   ]
  },
  {
   "cell_type": "code",
   "execution_count": 84,
   "id": "2a470673-0029-4452-b276-f9e8b3d48343",
   "metadata": {
    "tags": []
   },
   "outputs": [],
   "source": [
    "def song_searcher():   \n",
    "    \n",
    "    user_input = input().title()\n",
    "    api_req = sp.search(q=user_input, limit=1, type='track')\n",
    "    user_song = api_req['tracks']['items'][0]['id']\n",
    "    # print(user_song)\n",
    "    # print(user_input)\n",
    "   \n",
    "    \n",
    "    if billbord_df['songs'].isin([user_input]).any():\n",
    "        \n",
    "            star = \"*\"\n",
    "            hash_ = \"#\"\n",
    "\n",
    "            for i in range(10):\n",
    "                print(f'#{hash_*i}{\" \"*10}YOUR{star*i}SONG')\n",
    "                \n",
    "            \n",
    "            display(play_song(user_song))\n",
    "           \n",
    "            for i in range(9,0, -1):\n",
    "                print(f'{hash_*i}{\" \"*10}IS{star*i}HOT')\n",
    "            print(f'\\nThis song is the top 100 songs')\n",
    "        \n",
    "        \n",
    "    else:\n",
    "        \n",
    "        display(play_song(user_song))\n",
    "        \n",
    "        print(f'Also recomended for you:\\n{\"*\"*41}')\n",
    "        # Audio Features of the user song\n",
    "        song_ = pd.DataFrame(sp.audio_features(user_song))\n",
    "        song_af = song_.select_dtypes(include='number')\n",
    "        song_af.drop(['time_signature'], axis=1, inplace=True)\n",
    "        # print(song_af)\n",
    "        \n",
    "        # print(song_af, type(song_af))\n",
    "        \n",
    "        #Scalling\n",
    "        song_scaled = scaler.transform(song_af)\n",
    "        song_scaled_df = pd.DataFrame(song_scaled, columns = song_af.columns)\n",
    "        # song_scaled_df = df.drop(['type', 'uri', 'track_href', 'analysis_url', 'time_signature', 'id'], axis=1)\n",
    "        # print(song_scaled_df)\n",
    "\n",
    "        \n",
    "        pred = model_pickle.predict(song_scaled_df)\n",
    "        pred_ = int(pred[0])\n",
    "        # print('cluster', pred)\n",
    "        \n",
    "        # Random selection from main af_df using pred\n",
    "        song_reco_df = af_df[af_df['cluster'] == pred_].sample(3)\n",
    "         \n",
    "        \n",
    "        # Embed recommendations\n",
    "        for song in song_reco_df['id']:\n",
    "            display(play_song(song))\n",
    "\n",
    "        \n",
    "\n",
    "\n",
    "\n"
   ]
  },
  {
   "cell_type": "code",
   "execution_count": 86,
   "id": "53773e1c-3d79-41fc-a5ff-241d3b99058b",
   "metadata": {
    "tags": []
   },
   "outputs": [
    {
     "name": "stdin",
     "output_type": "stream",
     "text": [
      " blowin in the wind\n"
     ]
    },
    {
     "data": {
      "text/html": [
       "\n",
       "        <iframe\n",
       "            width=\"320\"\n",
       "            height=\"80\"\n",
       "            src=\"https://open.spotify.com/embed/track/18GiV1BaXzPVYpp9rmOg0E?frameborder=0&allowtransparency=true&allow=encrypted-media\"\n",
       "            frameborder=\"0\"\n",
       "            allowfullscreen\n",
       "            \n",
       "        ></iframe>\n",
       "        "
      ],
      "text/plain": [
       "<IPython.lib.display.IFrame at 0x1ce33e44c50>"
      ]
     },
     "metadata": {},
     "output_type": "display_data"
    },
    {
     "name": "stdout",
     "output_type": "stream",
     "text": [
      "Also recomended for you:\n",
      "*****************************************\n"
     ]
    },
    {
     "data": {
      "text/html": [
       "\n",
       "        <iframe\n",
       "            width=\"320\"\n",
       "            height=\"80\"\n",
       "            src=\"https://open.spotify.com/embed/track/5WAnt7GslqsKZOEUZ5SORP?frameborder=0&allowtransparency=true&allow=encrypted-media\"\n",
       "            frameborder=\"0\"\n",
       "            allowfullscreen\n",
       "            \n",
       "        ></iframe>\n",
       "        "
      ],
      "text/plain": [
       "<IPython.lib.display.IFrame at 0x1ce380b9090>"
      ]
     },
     "metadata": {},
     "output_type": "display_data"
    },
    {
     "data": {
      "text/html": [
       "\n",
       "        <iframe\n",
       "            width=\"320\"\n",
       "            height=\"80\"\n",
       "            src=\"https://open.spotify.com/embed/track/5dAoQMVA2jwl1hCTJGeWAm?frameborder=0&allowtransparency=true&allow=encrypted-media\"\n",
       "            frameborder=\"0\"\n",
       "            allowfullscreen\n",
       "            \n",
       "        ></iframe>\n",
       "        "
      ],
      "text/plain": [
       "<IPython.lib.display.IFrame at 0x1ce33f32dd0>"
      ]
     },
     "metadata": {},
     "output_type": "display_data"
    },
    {
     "data": {
      "text/html": [
       "\n",
       "        <iframe\n",
       "            width=\"320\"\n",
       "            height=\"80\"\n",
       "            src=\"https://open.spotify.com/embed/track/259d4MYHAadyTsY5pelMz8?frameborder=0&allowtransparency=true&allow=encrypted-media\"\n",
       "            frameborder=\"0\"\n",
       "            allowfullscreen\n",
       "            \n",
       "        ></iframe>\n",
       "        "
      ],
      "text/plain": [
       "<IPython.lib.display.IFrame at 0x1ce33f32dd0>"
      ]
     },
     "metadata": {},
     "output_type": "display_data"
    }
   ],
   "source": [
    "song_searcher()\n"
   ]
  },
  {
   "cell_type": "raw",
   "id": "7c135404-d9fd-4115-98b8-395e6276503c",
   "metadata": {},
   "source": []
  }
 ],
 "metadata": {
  "kernelspec": {
   "display_name": "Python 3 (ipykernel)",
   "language": "python",
   "name": "python3"
  },
  "language_info": {
   "codemirror_mode": {
    "name": "ipython",
    "version": 3
   },
   "file_extension": ".py",
   "mimetype": "text/x-python",
   "name": "python",
   "nbconvert_exporter": "python",
   "pygments_lexer": "ipython3",
   "version": "3.11.5"
  }
 },
 "nbformat": 4,
 "nbformat_minor": 5
}
