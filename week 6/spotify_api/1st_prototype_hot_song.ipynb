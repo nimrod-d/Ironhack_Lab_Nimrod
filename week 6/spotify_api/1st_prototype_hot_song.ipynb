{
 "cells": [
  {
   "cell_type": "code",
   "execution_count": 19,
   "id": "5a0c9de4-2183-4e6c-8ba2-5fecf7801501",
   "metadata": {
    "tags": []
   },
   "outputs": [
    {
     "name": "stdout",
     "output_type": "stream",
     "text": [
      "Requirement already satisfied: fuzzywuzzy in c:\\users\\nimrod\\anaconda3\\lib\\site-packages (0.18.0)\n"
     ]
    }
   ],
   "source": [
    "!pip install fuzzywuzzy\n",
    "\n"
   ]
  },
  {
   "cell_type": "code",
   "execution_count": 4,
   "id": "80bfeba2-2a45-495a-ac3d-f5de40ca8f15",
   "metadata": {
    "tags": []
   },
   "outputs": [
    {
     "name": "stdout",
     "output_type": "stream",
     "text": [
      "Requirement already satisfied: levenshtein in c:\\users\\nimrod\\anaconda3\\lib\\site-packages (0.25.0)\n",
      "Requirement already satisfied: rapidfuzz<4.0.0,>=3.1.0 in c:\\users\\nimrod\\anaconda3\\lib\\site-packages (from levenshtein) (3.6.1)\n",
      "Note: you may need to restart the kernel to use updated packages.\n"
     ]
    }
   ],
   "source": [
    "pip install levenshtein"
   ]
  },
  {
   "cell_type": "markdown",
   "id": "8482338f-af0e-4d03-98c0-4a7664ccfd34",
   "metadata": {},
   "source": [
    "## Data Collection"
   ]
  },
  {
   "cell_type": "code",
   "execution_count": 5,
   "id": "1a67f467-a59d-4d4b-8105-6a153289db93",
   "metadata": {
    "tags": []
   },
   "outputs": [],
   "source": [
    "from bs4 import BeautifulSoup\n",
    "import requests\n",
    "import pandas as pd\n",
    "from fuzzywuzzy import process"
   ]
  },
  {
   "cell_type": "code",
   "execution_count": 6,
   "id": "314bc503-b12a-4a5c-bffe-1f2aebdc9404",
   "metadata": {
    "tags": []
   },
   "outputs": [],
   "source": [
    "url = \"https://www.billboard.com/charts/hot-100/\"\n",
    "\n",
    "response = requests.get(url)\n",
    "response.status_code\n",
    "soup = BeautifulSoup(response.content)"
   ]
  },
  {
   "cell_type": "code",
   "execution_count": 7,
   "id": "04e64c0e-9152-4902-acc2-31968a0f1793",
   "metadata": {
    "tags": []
   },
   "outputs": [],
   "source": [
    "songs = []\n",
    "\n",
    "\n",
    "for song in soup.select('li h3.c-title'):\n",
    "    songs.append(song.get_text(strip=True))\n",
    "    \n"
   ]
  },
  {
   "cell_type": "code",
   "execution_count": 8,
   "id": "36f7e195-b81f-463a-9f4d-46526603c5f7",
   "metadata": {
    "tags": []
   },
   "outputs": [],
   "source": [
    "artist = []\n",
    "\n",
    "for a in soup.select('li span.c-label.a-no-trucate'):\n",
    "    artist.append(a.get_text(strip=True))\n",
    "\n"
   ]
  },
  {
   "cell_type": "code",
   "execution_count": 9,
   "id": "556b3e1d-8606-4b24-9613-d3856d9e28b9",
   "metadata": {
    "tags": []
   },
   "outputs": [],
   "source": [
    "current_pos = []\n",
    "\n",
    "for i in range(100):\n",
    "    current_pos.append(i+1)"
   ]
  },
  {
   "cell_type": "code",
   "execution_count": 10,
   "id": "a7f1321a-3fb1-4384-b3de-5181c3e53aa8",
   "metadata": {
    "tags": []
   },
   "outputs": [],
   "source": [
    "df_dict = {'current_pos': current_pos,\n",
    "           'songs': songs,\n",
    "           'artist': artist,\n",
    "           }\n",
    "\n",
    "billbord_df = pd.DataFrame(df_dict)"
   ]
  },
  {
   "cell_type": "code",
   "execution_count": 11,
   "id": "c35c8a13-8fc2-4945-a904-df4cd98758b1",
   "metadata": {
    "tags": []
   },
   "outputs": [
    {
     "name": "stdout",
     "output_type": "stream",
     "text": [
      "Stored 'billbord_df' (DataFrame)\n"
     ]
    }
   ],
   "source": [
    "%store billbord_df"
   ]
  },
  {
   "cell_type": "code",
   "execution_count": 12,
   "id": "eaa6e977-2ab4-48d8-b157-871a619693f3",
   "metadata": {
    "tags": []
   },
   "outputs": [
    {
     "data": {
      "text/html": [
       "<div>\n",
       "<style scoped>\n",
       "    .dataframe tbody tr th:only-of-type {\n",
       "        vertical-align: middle;\n",
       "    }\n",
       "\n",
       "    .dataframe tbody tr th {\n",
       "        vertical-align: top;\n",
       "    }\n",
       "\n",
       "    .dataframe thead th {\n",
       "        text-align: right;\n",
       "    }\n",
       "</style>\n",
       "<table border=\"1\" class=\"dataframe\">\n",
       "  <thead>\n",
       "    <tr style=\"text-align: right;\">\n",
       "      <th></th>\n",
       "      <th>current_pos</th>\n",
       "      <th>songs</th>\n",
       "      <th>artist</th>\n",
       "    </tr>\n",
       "  </thead>\n",
       "  <tbody>\n",
       "    <tr>\n",
       "      <th>0</th>\n",
       "      <td>1</td>\n",
       "      <td>Lovin On Me</td>\n",
       "      <td>Jack Harlow</td>\n",
       "    </tr>\n",
       "    <tr>\n",
       "      <th>1</th>\n",
       "      <td>2</td>\n",
       "      <td>Lose Control</td>\n",
       "      <td>Teddy Swims</td>\n",
       "    </tr>\n",
       "    <tr>\n",
       "      <th>2</th>\n",
       "      <td>3</td>\n",
       "      <td>Beautiful Things</td>\n",
       "      <td>Benson Boone</td>\n",
       "    </tr>\n",
       "    <tr>\n",
       "      <th>3</th>\n",
       "      <td>4</td>\n",
       "      <td>Cruel Summer</td>\n",
       "      <td>Taylor Swift</td>\n",
       "    </tr>\n",
       "    <tr>\n",
       "      <th>4</th>\n",
       "      <td>5</td>\n",
       "      <td>Snooze</td>\n",
       "      <td>SZA</td>\n",
       "    </tr>\n",
       "  </tbody>\n",
       "</table>\n",
       "</div>"
      ],
      "text/plain": [
       "   current_pos             songs        artist\n",
       "0            1       Lovin On Me   Jack Harlow\n",
       "1            2      Lose Control   Teddy Swims\n",
       "2            3  Beautiful Things  Benson Boone\n",
       "3            4      Cruel Summer  Taylor Swift\n",
       "4            5            Snooze           SZA"
      ]
     },
     "execution_count": 12,
     "metadata": {},
     "output_type": "execute_result"
    }
   ],
   "source": [
    "billbord_df.head()"
   ]
  },
  {
   "cell_type": "markdown",
   "id": "2973852f-bede-4fd6-9807-028feef29c9d",
   "metadata": {},
   "source": [
    "## User Interface"
   ]
  },
  {
   "cell_type": "code",
   "execution_count": 20,
   "id": "b9d63ed0-70b7-4cca-8c7b-a86128576fec",
   "metadata": {
    "tags": []
   },
   "outputs": [],
   "source": [
    "def song_searcher():   \n",
    "    user_song = input('Enter song').title()\n",
    "\n",
    "    if user_song in billbord_df['songs'].values:\n",
    "\n",
    "        # Setup\n",
    "        search = billbord_df['songs'] == user_song\n",
    "\n",
    "        song = billbord_df.loc[search, 'songs'].iloc[0]\n",
    "        artist = billbord_df.loc[search, 'artist'].iloc[0]\n",
    "        rank = billbord_df.loc[search, 'current_pos'].iloc[0]\n",
    "\n",
    "        while True:\n",
    "            recomend_song = billbord_df['songs'].sample().iloc[0]\n",
    "            recomend_artist = billbord_df['artist'].sample().iloc[0]\n",
    "            if user_song != recomend_song:\n",
    "                break\n",
    "\n",
    "        # Output\n",
    "        print(f'\\nThe song you chose is in the Top 100 List\\n{\"*\"*41}')\n",
    "        print(f'Song: {song}\\nArtist: {artist}\\nRanked: {rank}\\n{\"*\"*41}')\n",
    "        print(f'\\nSuggested as well:\\n{recomend_song} by {recomend_artist}\\n')\n",
    "\n",
    "    else:\n",
    "        print(f'\\nThe song you are looking for is not in the list')\n",
    "\n",
    "        # Fuzzy Matching \n",
    "        print(f'\\nDid you maybe look for:')\n",
    "        matches = process.extract(user_song, df['songs'], limit=2)\n",
    "        for match in matches:\n",
    "            print(match[0])\n",
    "    \n"
   ]
  },
  {
   "cell_type": "code",
   "execution_count": 23,
   "id": "a523b06d-991e-48eb-a092-fe8658cd6abb",
   "metadata": {
    "tags": []
   },
   "outputs": [
    {
     "name": "stdin",
     "output_type": "stream",
     "text": [
      "Enter song Snooze\n"
     ]
    },
    {
     "name": "stdout",
     "output_type": "stream",
     "text": [
      "\n",
      "The song you chose is in the Top 100 List\n",
      "*****************************************\n",
      "Song: Snooze\n",
      "Artist: SZA\n",
      "Ranked: 5\n",
      "*****************************************\n",
      "\n",
      "Suggested as well:\n",
      "FE!N by Chris Brown Featuring Davido & Lojay\n",
      "\n"
     ]
    }
   ],
   "source": [
    "song_searcher()"
   ]
  }
 ],
 "metadata": {
  "kernelspec": {
   "display_name": "Python 3 (ipykernel)",
   "language": "python",
   "name": "python3"
  },
  "language_info": {
   "codemirror_mode": {
    "name": "ipython",
    "version": 3
   },
   "file_extension": ".py",
   "mimetype": "text/x-python",
   "name": "python",
   "nbconvert_exporter": "python",
   "pygments_lexer": "ipython3",
   "version": "3.11.5"
  }
 },
 "nbformat": 4,
 "nbformat_minor": 5
}
