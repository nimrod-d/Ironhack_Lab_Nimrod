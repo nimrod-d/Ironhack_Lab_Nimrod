{
 "cells": [
  {
   "cell_type": "code",
   "execution_count": 1,
   "id": "1fb2ec67-175d-4122-977f-872c9f740f1b",
   "metadata": {
    "tags": []
   },
   "outputs": [],
   "source": [
    "import pandas as pd\n",
    "from matplotlib import pyplot as plt\n",
    "from sklearn.model_selection import train_test_split\n",
    "from sklearn.neighbors import KNeighborsClassifier\n",
    "from sklearn.metrics import confusion_matrix,  ConfusionMatrixDisplay\n",
    "from sklearn.metrics import accuracy_score, precision_score, recall_score\n",
    "from sklearn.preprocessing import MinMaxScaler, StandardScaler, PowerTransformer\n",
    "from sklearn.linear_model import LogisticRegression\n",
    "from sklearn.metrics import confusion_matrix, ConfusionMatrixDisplay\n",
    "\n",
    "\n",
    "import warnings\n",
    "warnings.filterwarnings(\"ignore\")"
   ]
  },
  {
   "cell_type": "code",
   "execution_count": 6,
   "id": "63d4f2cd-e6c0-4025-8dce-0374d99380a2",
   "metadata": {
    "tags": []
   },
   "outputs": [
    {
     "ename": "FileNotFoundError",
     "evalue": "[Errno 2] No such file or directory: 'Documents/GitHub/Ironhack_Lab_Nimrod/week 7/lab_week_7/DATA_Customer_Churn.csv'",
     "output_type": "error",
     "traceback": [
      "\u001b[1;31m---------------------------------------------------------------------------\u001b[0m",
      "\u001b[1;31mFileNotFoundError\u001b[0m                         Traceback (most recent call last)",
      "Cell \u001b[1;32mIn[6], line 3\u001b[0m\n\u001b[0;32m      1\u001b[0m url \u001b[38;5;241m=\u001b[39m \u001b[38;5;124m'\u001b[39m\u001b[38;5;124mDocuments/GitHub/Ironhack_Lab_Nimrod/week 7/lab_week_7/DATA_Customer_Churn.csv\u001b[39m\u001b[38;5;124m'\u001b[39m\n\u001b[1;32m----> 3\u001b[0m churnData \u001b[38;5;241m=\u001b[39m pd\u001b[38;5;241m.\u001b[39mread_csv(url)\n",
      "File \u001b[1;32m~\\AppData\\Roaming\\Python\\Python311\\site-packages\\pandas\\util\\_decorators.py:211\u001b[0m, in \u001b[0;36mdeprecate_kwarg.<locals>._deprecate_kwarg.<locals>.wrapper\u001b[1;34m(*args, **kwargs)\u001b[0m\n\u001b[0;32m    209\u001b[0m     \u001b[38;5;28;01melse\u001b[39;00m:\n\u001b[0;32m    210\u001b[0m         kwargs[new_arg_name] \u001b[38;5;241m=\u001b[39m new_arg_value\n\u001b[1;32m--> 211\u001b[0m \u001b[38;5;28;01mreturn\u001b[39;00m func(\u001b[38;5;241m*\u001b[39margs, \u001b[38;5;241m*\u001b[39m\u001b[38;5;241m*\u001b[39mkwargs)\n",
      "File \u001b[1;32m~\\AppData\\Roaming\\Python\\Python311\\site-packages\\pandas\\util\\_decorators.py:331\u001b[0m, in \u001b[0;36mdeprecate_nonkeyword_arguments.<locals>.decorate.<locals>.wrapper\u001b[1;34m(*args, **kwargs)\u001b[0m\n\u001b[0;32m    325\u001b[0m \u001b[38;5;28;01mif\u001b[39;00m \u001b[38;5;28mlen\u001b[39m(args) \u001b[38;5;241m>\u001b[39m num_allow_args:\n\u001b[0;32m    326\u001b[0m     warnings\u001b[38;5;241m.\u001b[39mwarn(\n\u001b[0;32m    327\u001b[0m         msg\u001b[38;5;241m.\u001b[39mformat(arguments\u001b[38;5;241m=\u001b[39m_format_argument_list(allow_args)),\n\u001b[0;32m    328\u001b[0m         \u001b[38;5;167;01mFutureWarning\u001b[39;00m,\n\u001b[0;32m    329\u001b[0m         stacklevel\u001b[38;5;241m=\u001b[39mfind_stack_level(),\n\u001b[0;32m    330\u001b[0m     )\n\u001b[1;32m--> 331\u001b[0m \u001b[38;5;28;01mreturn\u001b[39;00m func(\u001b[38;5;241m*\u001b[39margs, \u001b[38;5;241m*\u001b[39m\u001b[38;5;241m*\u001b[39mkwargs)\n",
      "File \u001b[1;32m~\\AppData\\Roaming\\Python\\Python311\\site-packages\\pandas\\io\\parsers\\readers.py:950\u001b[0m, in \u001b[0;36mread_csv\u001b[1;34m(filepath_or_buffer, sep, delimiter, header, names, index_col, usecols, squeeze, prefix, mangle_dupe_cols, dtype, engine, converters, true_values, false_values, skipinitialspace, skiprows, skipfooter, nrows, na_values, keep_default_na, na_filter, verbose, skip_blank_lines, parse_dates, infer_datetime_format, keep_date_col, date_parser, dayfirst, cache_dates, iterator, chunksize, compression, thousands, decimal, lineterminator, quotechar, quoting, doublequote, escapechar, comment, encoding, encoding_errors, dialect, error_bad_lines, warn_bad_lines, on_bad_lines, delim_whitespace, low_memory, memory_map, float_precision, storage_options)\u001b[0m\n\u001b[0;32m    935\u001b[0m kwds_defaults \u001b[38;5;241m=\u001b[39m _refine_defaults_read(\n\u001b[0;32m    936\u001b[0m     dialect,\n\u001b[0;32m    937\u001b[0m     delimiter,\n\u001b[1;32m   (...)\u001b[0m\n\u001b[0;32m    946\u001b[0m     defaults\u001b[38;5;241m=\u001b[39m{\u001b[38;5;124m\"\u001b[39m\u001b[38;5;124mdelimiter\u001b[39m\u001b[38;5;124m\"\u001b[39m: \u001b[38;5;124m\"\u001b[39m\u001b[38;5;124m,\u001b[39m\u001b[38;5;124m\"\u001b[39m},\n\u001b[0;32m    947\u001b[0m )\n\u001b[0;32m    948\u001b[0m kwds\u001b[38;5;241m.\u001b[39mupdate(kwds_defaults)\n\u001b[1;32m--> 950\u001b[0m \u001b[38;5;28;01mreturn\u001b[39;00m _read(filepath_or_buffer, kwds)\n",
      "File \u001b[1;32m~\\AppData\\Roaming\\Python\\Python311\\site-packages\\pandas\\io\\parsers\\readers.py:605\u001b[0m, in \u001b[0;36m_read\u001b[1;34m(filepath_or_buffer, kwds)\u001b[0m\n\u001b[0;32m    602\u001b[0m _validate_names(kwds\u001b[38;5;241m.\u001b[39mget(\u001b[38;5;124m\"\u001b[39m\u001b[38;5;124mnames\u001b[39m\u001b[38;5;124m\"\u001b[39m, \u001b[38;5;28;01mNone\u001b[39;00m))\n\u001b[0;32m    604\u001b[0m \u001b[38;5;66;03m# Create the parser.\u001b[39;00m\n\u001b[1;32m--> 605\u001b[0m parser \u001b[38;5;241m=\u001b[39m TextFileReader(filepath_or_buffer, \u001b[38;5;241m*\u001b[39m\u001b[38;5;241m*\u001b[39mkwds)\n\u001b[0;32m    607\u001b[0m \u001b[38;5;28;01mif\u001b[39;00m chunksize \u001b[38;5;129;01mor\u001b[39;00m iterator:\n\u001b[0;32m    608\u001b[0m     \u001b[38;5;28;01mreturn\u001b[39;00m parser\n",
      "File \u001b[1;32m~\\AppData\\Roaming\\Python\\Python311\\site-packages\\pandas\\io\\parsers\\readers.py:1442\u001b[0m, in \u001b[0;36mTextFileReader.__init__\u001b[1;34m(self, f, engine, **kwds)\u001b[0m\n\u001b[0;32m   1439\u001b[0m     \u001b[38;5;28mself\u001b[39m\u001b[38;5;241m.\u001b[39moptions[\u001b[38;5;124m\"\u001b[39m\u001b[38;5;124mhas_index_names\u001b[39m\u001b[38;5;124m\"\u001b[39m] \u001b[38;5;241m=\u001b[39m kwds[\u001b[38;5;124m\"\u001b[39m\u001b[38;5;124mhas_index_names\u001b[39m\u001b[38;5;124m\"\u001b[39m]\n\u001b[0;32m   1441\u001b[0m \u001b[38;5;28mself\u001b[39m\u001b[38;5;241m.\u001b[39mhandles: IOHandles \u001b[38;5;241m|\u001b[39m \u001b[38;5;28;01mNone\u001b[39;00m \u001b[38;5;241m=\u001b[39m \u001b[38;5;28;01mNone\u001b[39;00m\n\u001b[1;32m-> 1442\u001b[0m \u001b[38;5;28mself\u001b[39m\u001b[38;5;241m.\u001b[39m_engine \u001b[38;5;241m=\u001b[39m \u001b[38;5;28mself\u001b[39m\u001b[38;5;241m.\u001b[39m_make_engine(f, \u001b[38;5;28mself\u001b[39m\u001b[38;5;241m.\u001b[39mengine)\n",
      "File \u001b[1;32m~\\AppData\\Roaming\\Python\\Python311\\site-packages\\pandas\\io\\parsers\\readers.py:1735\u001b[0m, in \u001b[0;36mTextFileReader._make_engine\u001b[1;34m(self, f, engine)\u001b[0m\n\u001b[0;32m   1733\u001b[0m     \u001b[38;5;28;01mif\u001b[39;00m \u001b[38;5;124m\"\u001b[39m\u001b[38;5;124mb\u001b[39m\u001b[38;5;124m\"\u001b[39m \u001b[38;5;129;01mnot\u001b[39;00m \u001b[38;5;129;01min\u001b[39;00m mode:\n\u001b[0;32m   1734\u001b[0m         mode \u001b[38;5;241m+\u001b[39m\u001b[38;5;241m=\u001b[39m \u001b[38;5;124m\"\u001b[39m\u001b[38;5;124mb\u001b[39m\u001b[38;5;124m\"\u001b[39m\n\u001b[1;32m-> 1735\u001b[0m \u001b[38;5;28mself\u001b[39m\u001b[38;5;241m.\u001b[39mhandles \u001b[38;5;241m=\u001b[39m get_handle(\n\u001b[0;32m   1736\u001b[0m     f,\n\u001b[0;32m   1737\u001b[0m     mode,\n\u001b[0;32m   1738\u001b[0m     encoding\u001b[38;5;241m=\u001b[39m\u001b[38;5;28mself\u001b[39m\u001b[38;5;241m.\u001b[39moptions\u001b[38;5;241m.\u001b[39mget(\u001b[38;5;124m\"\u001b[39m\u001b[38;5;124mencoding\u001b[39m\u001b[38;5;124m\"\u001b[39m, \u001b[38;5;28;01mNone\u001b[39;00m),\n\u001b[0;32m   1739\u001b[0m     compression\u001b[38;5;241m=\u001b[39m\u001b[38;5;28mself\u001b[39m\u001b[38;5;241m.\u001b[39moptions\u001b[38;5;241m.\u001b[39mget(\u001b[38;5;124m\"\u001b[39m\u001b[38;5;124mcompression\u001b[39m\u001b[38;5;124m\"\u001b[39m, \u001b[38;5;28;01mNone\u001b[39;00m),\n\u001b[0;32m   1740\u001b[0m     memory_map\u001b[38;5;241m=\u001b[39m\u001b[38;5;28mself\u001b[39m\u001b[38;5;241m.\u001b[39moptions\u001b[38;5;241m.\u001b[39mget(\u001b[38;5;124m\"\u001b[39m\u001b[38;5;124mmemory_map\u001b[39m\u001b[38;5;124m\"\u001b[39m, \u001b[38;5;28;01mFalse\u001b[39;00m),\n\u001b[0;32m   1741\u001b[0m     is_text\u001b[38;5;241m=\u001b[39mis_text,\n\u001b[0;32m   1742\u001b[0m     errors\u001b[38;5;241m=\u001b[39m\u001b[38;5;28mself\u001b[39m\u001b[38;5;241m.\u001b[39moptions\u001b[38;5;241m.\u001b[39mget(\u001b[38;5;124m\"\u001b[39m\u001b[38;5;124mencoding_errors\u001b[39m\u001b[38;5;124m\"\u001b[39m, \u001b[38;5;124m\"\u001b[39m\u001b[38;5;124mstrict\u001b[39m\u001b[38;5;124m\"\u001b[39m),\n\u001b[0;32m   1743\u001b[0m     storage_options\u001b[38;5;241m=\u001b[39m\u001b[38;5;28mself\u001b[39m\u001b[38;5;241m.\u001b[39moptions\u001b[38;5;241m.\u001b[39mget(\u001b[38;5;124m\"\u001b[39m\u001b[38;5;124mstorage_options\u001b[39m\u001b[38;5;124m\"\u001b[39m, \u001b[38;5;28;01mNone\u001b[39;00m),\n\u001b[0;32m   1744\u001b[0m )\n\u001b[0;32m   1745\u001b[0m \u001b[38;5;28;01massert\u001b[39;00m \u001b[38;5;28mself\u001b[39m\u001b[38;5;241m.\u001b[39mhandles \u001b[38;5;129;01mis\u001b[39;00m \u001b[38;5;129;01mnot\u001b[39;00m \u001b[38;5;28;01mNone\u001b[39;00m\n\u001b[0;32m   1746\u001b[0m f \u001b[38;5;241m=\u001b[39m \u001b[38;5;28mself\u001b[39m\u001b[38;5;241m.\u001b[39mhandles\u001b[38;5;241m.\u001b[39mhandle\n",
      "File \u001b[1;32m~\\AppData\\Roaming\\Python\\Python311\\site-packages\\pandas\\io\\common.py:856\u001b[0m, in \u001b[0;36mget_handle\u001b[1;34m(path_or_buf, mode, encoding, compression, memory_map, is_text, errors, storage_options)\u001b[0m\n\u001b[0;32m    851\u001b[0m \u001b[38;5;28;01melif\u001b[39;00m \u001b[38;5;28misinstance\u001b[39m(handle, \u001b[38;5;28mstr\u001b[39m):\n\u001b[0;32m    852\u001b[0m     \u001b[38;5;66;03m# Check whether the filename is to be opened in binary mode.\u001b[39;00m\n\u001b[0;32m    853\u001b[0m     \u001b[38;5;66;03m# Binary mode does not support 'encoding' and 'newline'.\u001b[39;00m\n\u001b[0;32m    854\u001b[0m     \u001b[38;5;28;01mif\u001b[39;00m ioargs\u001b[38;5;241m.\u001b[39mencoding \u001b[38;5;129;01mand\u001b[39;00m \u001b[38;5;124m\"\u001b[39m\u001b[38;5;124mb\u001b[39m\u001b[38;5;124m\"\u001b[39m \u001b[38;5;129;01mnot\u001b[39;00m \u001b[38;5;129;01min\u001b[39;00m ioargs\u001b[38;5;241m.\u001b[39mmode:\n\u001b[0;32m    855\u001b[0m         \u001b[38;5;66;03m# Encoding\u001b[39;00m\n\u001b[1;32m--> 856\u001b[0m         handle \u001b[38;5;241m=\u001b[39m \u001b[38;5;28mopen\u001b[39m(\n\u001b[0;32m    857\u001b[0m             handle,\n\u001b[0;32m    858\u001b[0m             ioargs\u001b[38;5;241m.\u001b[39mmode,\n\u001b[0;32m    859\u001b[0m             encoding\u001b[38;5;241m=\u001b[39mioargs\u001b[38;5;241m.\u001b[39mencoding,\n\u001b[0;32m    860\u001b[0m             errors\u001b[38;5;241m=\u001b[39merrors,\n\u001b[0;32m    861\u001b[0m             newline\u001b[38;5;241m=\u001b[39m\u001b[38;5;124m\"\u001b[39m\u001b[38;5;124m\"\u001b[39m,\n\u001b[0;32m    862\u001b[0m         )\n\u001b[0;32m    863\u001b[0m     \u001b[38;5;28;01melse\u001b[39;00m:\n\u001b[0;32m    864\u001b[0m         \u001b[38;5;66;03m# Binary mode\u001b[39;00m\n\u001b[0;32m    865\u001b[0m         handle \u001b[38;5;241m=\u001b[39m \u001b[38;5;28mopen\u001b[39m(handle, ioargs\u001b[38;5;241m.\u001b[39mmode)\n",
      "\u001b[1;31mFileNotFoundError\u001b[0m: [Errno 2] No such file or directory: 'Documents/GitHub/Ironhack_Lab_Nimrod/week 7/lab_week_7/DATA_Customer_Churn.csv'"
     ]
    }
   ],
   "source": [
    "url = 'Documents/GitHub/Ironhack_Lab_Nimrod/week 7/lab_week_7/DATA_Customer_Churn.csv'\n",
    "\n",
    "churnData = pd.read_csv(url)"
   ]
  },
  {
   "cell_type": "code",
   "execution_count": null,
   "id": "6bc149c2-e88c-4c3f-94f9-d38a2443e129",
   "metadata": {
    "tags": []
   },
   "outputs": [],
   "source": [
    "churnData.head()"
   ]
  },
  {
   "cell_type": "markdown",
   "id": "261f2854-3f56-42cd-ae9b-84f18e409a52",
   "metadata": {
    "tags": []
   },
   "source": [
    "Check the datatypes of all the columns in the data. \n",
    "\n",
    "\n",
    "You will see that the column __TotalCharges__ is object type. Convert this column into numeric type using __pd.to_numeric__ function."
   ]
  },
  {
   "cell_type": "code",
   "execution_count": null,
   "id": "87538845-6ee2-4877-9991-d6ba106db3a1",
   "metadata": {
    "tags": []
   },
   "outputs": [],
   "source": [
    "churnData.info()"
   ]
  },
  {
   "cell_type": "code",
   "execution_count": null,
   "id": "18053241-9589-4011-b836-6c39b09aa52d",
   "metadata": {
    "tags": []
   },
   "outputs": [],
   "source": [
    "# total_charges = pd.Series(churnData['TotalCharges'])\n",
    "\n",
    "# pd.to_numeric(total_charges)"
   ]
  },
  {
   "cell_type": "markdown",
   "id": "ad7b0b51-17a4-4e38-b0e4-56e43aff43ed",
   "metadata": {},
   "source": [
    "Seems we might have an issue of missing values / NA's"
   ]
  },
  {
   "cell_type": "code",
   "execution_count": null,
   "id": "e0f6cde7-1fdc-4789-b52c-3f89a6d208ae",
   "metadata": {
    "tags": []
   },
   "outputs": [],
   "source": [
    "churnData['TotalCharges'].iloc[488]"
   ]
  },
  {
   "cell_type": "code",
   "execution_count": null,
   "id": "1378321a-761c-4871-a0a4-90a42c38d429",
   "metadata": {
    "tags": []
   },
   "outputs": [],
   "source": [
    "len(churnData[churnData['tenure'] == 0])"
   ]
  },
  {
   "cell_type": "code",
   "execution_count": null,
   "id": "7ed36ed9-9d3e-4ea5-a814-996ec2134045",
   "metadata": {
    "tags": []
   },
   "outputs": [],
   "source": [
    "churnData[churnData['TotalCharges'] == ' '] \n"
   ]
  },
  {
   "cell_type": "code",
   "execution_count": null,
   "id": "1a616f1e-d8da-4a13-a0e8-bed46603219e",
   "metadata": {
    "tags": []
   },
   "outputs": [],
   "source": [
    "## Setting missing values of TotalCharges to equal the Monthly Charges as they have tenure of 0 they are no populated \n",
    "\n",
    "churnData.loc[churnData['TotalCharges'] == ' ', 'TotalCharges'] = churnData['MonthlyCharges']\n",
    "\n"
   ]
  },
  {
   "cell_type": "code",
   "execution_count": null,
   "id": "85c2648b-6e9c-4a85-837d-202852104e0d",
   "metadata": {
    "tags": []
   },
   "outputs": [],
   "source": [
    "churnData['TotalCharges'] = churnData['TotalCharges'].astype(float)"
   ]
  },
  {
   "cell_type": "code",
   "execution_count": null,
   "id": "539c68d4-7d9b-46f4-b2ac-a4a0c5ef53e5",
   "metadata": {
    "tags": []
   },
   "outputs": [],
   "source": [
    "churnData.info()"
   ]
  },
  {
   "cell_type": "markdown",
   "id": "57e70c88-d791-4d53-b91f-6f354d00a3be",
   "metadata": {},
   "source": [
    "Check for null values in the dataframe. Replace the null values.\n"
   ]
  },
  {
   "cell_type": "code",
   "execution_count": null,
   "id": "9745cecf-8356-4cc1-8f2e-c161578e4f9f",
   "metadata": {
    "tags": []
   },
   "outputs": [],
   "source": [
    "churnData.isnull().any()"
   ]
  },
  {
   "cell_type": "markdown",
   "id": "44f5d349-2038-41b1-847e-68f906120981",
   "metadata": {},
   "source": [
    "Use the following features: tenure, SeniorCitizen, MonthlyCharges and TotalCharges:\n",
    "\n",
    "\n",
    "Split the data into a training set and a test set.\n",
    "\n",
    "\n",
    "Scale the features either by using normalizer or a standard scaler.\n",
    "\n",
    "\n",
    "Fit a logistic Regression model on the training data.\n",
    "\n",
    "\n",
    "Fit a Knn Classifier(NOT KnnRegressor please!)model on the training data."
   ]
  },
  {
   "cell_type": "code",
   "execution_count": null,
   "id": "a25e7626-7cd2-4245-a856-82799b654910",
   "metadata": {},
   "outputs": [],
   "source": [
    "df = churnData[['tenure', 'SeniorCitizen', 'MonthlyCharges', 'TotalCharges']]"
   ]
  },
  {
   "cell_type": "code",
   "execution_count": null,
   "id": "acccaa72-48ad-4bf1-8d40-e12abb780ab2",
   "metadata": {
    "tags": []
   },
   "outputs": [],
   "source": [
    "churnData['Churn'] = churnData['Churn'].apply(lambda x: 0 if x == 'No' else 1)"
   ]
  },
  {
   "cell_type": "code",
   "execution_count": null,
   "id": "b38f33ce-1abe-454e-8127-f35c41e753c6",
   "metadata": {
    "tags": []
   },
   "outputs": [],
   "source": [
    "churnData['Churn']"
   ]
  },
  {
   "cell_type": "code",
   "execution_count": null,
   "id": "126260d3-d90c-4be5-8310-14e5e61200f8",
   "metadata": {
    "tags": []
   },
   "outputs": [],
   "source": [
    "X = df\n",
    "y = churnData[['Churn']]"
   ]
  },
  {
   "cell_type": "code",
   "execution_count": null,
   "id": "7a8b4657-e046-4d38-9f25-05476ffd9026",
   "metadata": {
    "tags": []
   },
   "outputs": [],
   "source": [
    "X.info()"
   ]
  },
  {
   "cell_type": "code",
   "execution_count": null,
   "id": "d6d5eb37-47f7-47d3-ad83-9a9a1352cc3f",
   "metadata": {
    "tags": []
   },
   "outputs": [],
   "source": [
    "X.hist(figsize=(5,3), grid=False)\n",
    "plt.tight_layout()"
   ]
  },
  {
   "cell_type": "markdown",
   "id": "8e45d025-2003-43ce-82cd-799401b3d118",
   "metadata": {},
   "source": [
    "### Transforming "
   ]
  },
  {
   "cell_type": "code",
   "execution_count": null,
   "id": "34c2f157-67be-4e79-bb6a-3818261ac9da",
   "metadata": {
    "tags": []
   },
   "outputs": [],
   "source": [
    "X_train,X_test, y_train, y_test = train_test_split(X, y, test_size=0.2, random_state=42)"
   ]
  },
  {
   "cell_type": "code",
   "execution_count": null,
   "id": "b89418ca-71c9-4871-baa3-fb1f5c0de609",
   "metadata": {
    "tags": []
   },
   "outputs": [],
   "source": [
    "scaler = StandardScaler()"
   ]
  },
  {
   "cell_type": "code",
   "execution_count": null,
   "id": "fe870192-bfcc-434e-83c5-335355c9592e",
   "metadata": {
    "tags": []
   },
   "outputs": [],
   "source": [
    "scaler.fit(X_train)\n",
    "\n",
    "X_train_scaled = scaler.transform(X_train)\n",
    "X_test_scaled = scaler.transform(X_test)\n",
    "\n",
    "X_train = pd.DataFrame(X_train_scaled, columns=X.columns)\n",
    "X_test = pd.DataFrame(X_test_scaled, columns=X.columns)"
   ]
  },
  {
   "cell_type": "code",
   "execution_count": null,
   "id": "ba071afe-5e31-4c12-bc93-0578af2795c7",
   "metadata": {
    "tags": []
   },
   "outputs": [],
   "source": [
    "log_model = LogisticRegression()\n",
    "\n",
    "log_model.fit(X_train, y_train)"
   ]
  },
  {
   "cell_type": "code",
   "execution_count": null,
   "id": "f95955be-00ec-4a51-bc0a-cc4c81fc984a",
   "metadata": {
    "tags": []
   },
   "outputs": [],
   "source": [
    "y_pred_train = log_model.predict(X_train)\n",
    "y_pred_test = log_model.predict(X_test)\n",
    "\n",
    "performance_log = pd.DataFrame({'Error_metric': ['Accuracy','Precision','Recall'],\n",
    "                               'Train': [accuracy_score(y_train, y_pred_train),\n",
    "                                         precision_score(y_train, y_pred_train),\n",
    "                                         recall_score(y_train, y_pred_train)],\n",
    "                               'Test': [accuracy_score(y_test, y_pred_test),\n",
    "                                        precision_score(y_test, y_pred_test),\n",
    "                                        recall_score(y_test, y_pred_test)]})\n",
    "\n",
    "display(performance_log)"
   ]
  },
  {
   "cell_type": "code",
   "execution_count": null,
   "id": "b5367176-510d-48d4-93b3-003f04a55204",
   "metadata": {
    "tags": []
   },
   "outputs": [],
   "source": [
    "cm_train = confusion_matrix(y_train, y_pred_train, labels = log_model.classes_)\n",
    "disp = ConfusionMatrixDisplay(cm_train)\n",
    "disp.plot()"
   ]
  },
  {
   "cell_type": "code",
   "execution_count": null,
   "id": "d82ab523-eb3d-4ffd-9eab-0b4cd85af541",
   "metadata": {
    "tags": []
   },
   "outputs": [],
   "source": [
    "## KNN Model\n",
    "\n",
    "model = KNeighborsClassifier(n_neighbors=5,weights='uniform', p=12) # declare we're using knn classification model\n",
    "model.fit(X_train, y_train) # train model\n",
    "y_pred = model.predict(X_test.values) # predict test\n",
    "y_pred_train=model.predict(X_train.values) # predict train (for sanity checks)\n",
    "\n",
    "performance_log = pd.DataFrame({'Error_metric': ['Accuracy','Precision','Recall'],\n",
    "                               'Train': [accuracy_score(y_train, y_pred_train),\n",
    "                                         precision_score(y_train, y_pred_train),\n",
    "                                         recall_score(y_train, y_pred_train)],\n",
    "                               'Test': [accuracy_score(y_test, y_pred),\n",
    "                                        precision_score(y_test, y_pred),\n",
    "                                        recall_score(y_test, y_pred)]})\n",
    "\n",
    "display(performance_log)"
   ]
  },
  {
   "cell_type": "code",
   "execution_count": null,
   "id": "b05bb888-ca45-4165-ae1d-c2dea55f7dfd",
   "metadata": {
    "tags": []
   },
   "outputs": [],
   "source": [
    "cm = confusion_matrix(y_test, y_pred, labels= model.classes_)\n",
    "disp = ConfusionMatrixDisplay(cm)\n",
    "disp.plot()"
   ]
  },
  {
   "cell_type": "markdown",
   "id": "66eb0dea-2fb1-487a-a111-60a56ee8685a",
   "metadata": {},
   "source": [
    "#### Round 2\n",
    "\n",
    "- Fit a Decision Tree Classifier on the training data.\n",
    "- Check the error metric on the test data.\n",
    "- Create a function that takes a list of integers and trains and tests a Decision Tree Classifier using each integer as max_depth"
   ]
  },
  {
   "cell_type": "code",
   "execution_count": null,
   "id": "09411658-50b4-44e5-a58d-46e7f21aabff",
   "metadata": {
    "tags": []
   },
   "outputs": [],
   "source": [
    "from sklearn.tree import DecisionTreeClassifier\n"
   ]
  },
  {
   "cell_type": "code",
   "execution_count": null,
   "id": "e7de74f1-b8fa-469b-99d5-d716a9a4da90",
   "metadata": {
    "tags": []
   },
   "outputs": [],
   "source": []
  },
  {
   "cell_type": "code",
   "execution_count": null,
   "id": "e0fa18fe-44c3-4ac8-89bd-ec6b43c744d7",
   "metadata": {},
   "outputs": [],
   "source": [
    "model = DecisionTreeClassifier(max_depth=4)\n",
    "\n",
    "model.fit(X_train, y_train)\n",
    "\n",
    "y_pred_train_dt = model.predict(X_train)\n",
    "y_pred_test_dt = model.predict(X_test)\n",
    "\n",
    "\n",
    "performance_df = pd.DataFrame({'Error_metric': ['Accuracy','Precision','Recall'],\n",
    "                               'Train': [accuracy_score(y_train, y_pred_train_dt),\n",
    "                                         precision_score(y_train, y_pred_train_dt),\n",
    "                                         recall_score(y_train, y_pred_train_dt)],\n",
    "                               'Test': [accuracy_score(y_test, y_pred_test_dt),\n",
    "                                        precision_score(y_test, y_pred_test_dt),\n",
    "                                        recall_score(y_test, y_pred_test_dt)]})\n",
    "\n",
    "display(performance_df)"
   ]
  },
  {
   "cell_type": "code",
   "execution_count": null,
   "id": "f5f5c44b-6873-468f-b059-78990ca2746b",
   "metadata": {},
   "outputs": [],
   "source": []
  },
  {
   "cell_type": "code",
   "execution_count": null,
   "id": "af392a47-74d2-46c3-a9f7-00bd8e033bcc",
   "metadata": {},
   "outputs": [],
   "source": []
  }
 ],
 "metadata": {
  "kernelspec": {
   "display_name": "Python 3 (ipykernel)",
   "language": "python",
   "name": "python3"
  },
  "language_info": {
   "codemirror_mode": {
    "name": "ipython",
    "version": 3
   },
   "file_extension": ".py",
   "mimetype": "text/x-python",
   "name": "python",
   "nbconvert_exporter": "python",
   "pygments_lexer": "ipython3",
   "version": "3.11.5"
  }
 },
 "nbformat": 4,
 "nbformat_minor": 5
}
