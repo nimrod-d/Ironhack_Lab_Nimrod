{
 "cells": [
  {
   "cell_type": "code",
   "execution_count": 41,
   "id": "5cccb806",
   "metadata": {},
   "outputs": [],
   "source": [
    "import pandas as pd\n",
    "import matplotlib.pyplot as plt \n",
    "import seaborn as sns\n",
    "from sklearn.preprocessing import MinMaxScaler, StandardScaler, PowerTransformer, OrdinalEncoder\n",
    "from sklearn.model_selection import train_test_split\n",
    "from sklearn.linear_model import LinearRegression \n",
    "\n",
    "\n",
    "\n",
    "url = \"C:/Users/Nimrod/Documents/GitHub/2nd_try_iron_repo/week4/Data_Marketing_Customer_Analysis_Round3.csv\"\n",
    "\n",
    "df = pd.read_csv(url)"
   ]
  },
  {
   "cell_type": "code",
   "execution_count": 213,
   "id": "d9b8b880",
   "metadata": {},
   "outputs": [
    {
     "data": {
      "text/html": [
       "<div>\n",
       "<style scoped>\n",
       "    .dataframe tbody tr th:only-of-type {\n",
       "        vertical-align: middle;\n",
       "    }\n",
       "\n",
       "    .dataframe tbody tr th {\n",
       "        vertical-align: top;\n",
       "    }\n",
       "\n",
       "    .dataframe thead th {\n",
       "        text-align: right;\n",
       "    }\n",
       "</style>\n",
       "<table border=\"1\" class=\"dataframe\">\n",
       "  <thead>\n",
       "    <tr style=\"text-align: right;\">\n",
       "      <th></th>\n",
       "      <th>region</th>\n",
       "      <th>customer_lifetime_value</th>\n",
       "      <th>response</th>\n",
       "      <th>coverage</th>\n",
       "      <th>education</th>\n",
       "      <th>effective_to_date</th>\n",
       "      <th>month</th>\n",
       "      <th>employment_status</th>\n",
       "      <th>gender</th>\n",
       "      <th>income</th>\n",
       "      <th>...</th>\n",
       "      <th>months_since_policy_inception</th>\n",
       "      <th>number_of_open_complaints</th>\n",
       "      <th>number_of_policies</th>\n",
       "      <th>policy_type</th>\n",
       "      <th>policy</th>\n",
       "      <th>renew_offer_type</th>\n",
       "      <th>sales_channel</th>\n",
       "      <th>total_claim_amount</th>\n",
       "      <th>vehicle_class</th>\n",
       "      <th>vehicle_size</th>\n",
       "    </tr>\n",
       "  </thead>\n",
       "  <tbody>\n",
       "    <tr>\n",
       "      <th>0</th>\n",
       "      <td>central</td>\n",
       "      <td>4809</td>\n",
       "      <td>no</td>\n",
       "      <td>basic</td>\n",
       "      <td>college</td>\n",
       "      <td>2/18/11</td>\n",
       "      <td>feb</td>\n",
       "      <td>employed</td>\n",
       "      <td>m</td>\n",
       "      <td>48029</td>\n",
       "      <td>...</td>\n",
       "      <td>52</td>\n",
       "      <td>0</td>\n",
       "      <td>9</td>\n",
       "      <td>corporate auto</td>\n",
       "      <td>corporate l3</td>\n",
       "      <td>offer3</td>\n",
       "      <td>agent</td>\n",
       "      <td>292</td>\n",
       "      <td>four-door car</td>\n",
       "      <td>medsize</td>\n",
       "    </tr>\n",
       "    <tr>\n",
       "      <th>1</th>\n",
       "      <td>west region</td>\n",
       "      <td>2228</td>\n",
       "      <td>no</td>\n",
       "      <td>basic</td>\n",
       "      <td>college</td>\n",
       "      <td>1/18/11</td>\n",
       "      <td>jan</td>\n",
       "      <td>unemployed</td>\n",
       "      <td>f</td>\n",
       "      <td>92260</td>\n",
       "      <td>...</td>\n",
       "      <td>26</td>\n",
       "      <td>0</td>\n",
       "      <td>1</td>\n",
       "      <td>personal auto</td>\n",
       "      <td>personal l3</td>\n",
       "      <td>offer4</td>\n",
       "      <td>call center</td>\n",
       "      <td>744</td>\n",
       "      <td>four-door car</td>\n",
       "      <td>medsize</td>\n",
       "    </tr>\n",
       "    <tr>\n",
       "      <th>2</th>\n",
       "      <td>east</td>\n",
       "      <td>14947</td>\n",
       "      <td>no</td>\n",
       "      <td>basic</td>\n",
       "      <td>bachelor</td>\n",
       "      <td>2/10/11</td>\n",
       "      <td>feb</td>\n",
       "      <td>employed</td>\n",
       "      <td>m</td>\n",
       "      <td>22139</td>\n",
       "      <td>...</td>\n",
       "      <td>31</td>\n",
       "      <td>0</td>\n",
       "      <td>2</td>\n",
       "      <td>personal auto</td>\n",
       "      <td>personal l3</td>\n",
       "      <td>offer3</td>\n",
       "      <td>call center</td>\n",
       "      <td>480</td>\n",
       "      <td>suv</td>\n",
       "      <td>medsize</td>\n",
       "    </tr>\n",
       "    <tr>\n",
       "      <th>3</th>\n",
       "      <td>north west</td>\n",
       "      <td>22332</td>\n",
       "      <td>yes</td>\n",
       "      <td>extended</td>\n",
       "      <td>college</td>\n",
       "      <td>1/11/11</td>\n",
       "      <td>jan</td>\n",
       "      <td>employed</td>\n",
       "      <td>m</td>\n",
       "      <td>49078</td>\n",
       "      <td>...</td>\n",
       "      <td>3</td>\n",
       "      <td>0</td>\n",
       "      <td>2</td>\n",
       "      <td>corporate auto</td>\n",
       "      <td>corporate l3</td>\n",
       "      <td>offer2</td>\n",
       "      <td>branch</td>\n",
       "      <td>484</td>\n",
       "      <td>four-door car</td>\n",
       "      <td>medsize</td>\n",
       "    </tr>\n",
       "    <tr>\n",
       "      <th>4</th>\n",
       "      <td>north west</td>\n",
       "      <td>9025</td>\n",
       "      <td>no</td>\n",
       "      <td>premium</td>\n",
       "      <td>bachelor</td>\n",
       "      <td>1/17/11</td>\n",
       "      <td>jan</td>\n",
       "      <td>medical leave</td>\n",
       "      <td>f</td>\n",
       "      <td>23675</td>\n",
       "      <td>...</td>\n",
       "      <td>31</td>\n",
       "      <td>0</td>\n",
       "      <td>7</td>\n",
       "      <td>personal auto</td>\n",
       "      <td>personal l2</td>\n",
       "      <td>offer1</td>\n",
       "      <td>branch</td>\n",
       "      <td>707</td>\n",
       "      <td>four-door car</td>\n",
       "      <td>medsize</td>\n",
       "    </tr>\n",
       "    <tr>\n",
       "      <th>...</th>\n",
       "      <td>...</td>\n",
       "      <td>...</td>\n",
       "      <td>...</td>\n",
       "      <td>...</td>\n",
       "      <td>...</td>\n",
       "      <td>...</td>\n",
       "      <td>...</td>\n",
       "      <td>...</td>\n",
       "      <td>...</td>\n",
       "      <td>...</td>\n",
       "      <td>...</td>\n",
       "      <td>...</td>\n",
       "      <td>...</td>\n",
       "      <td>...</td>\n",
       "      <td>...</td>\n",
       "      <td>...</td>\n",
       "      <td>...</td>\n",
       "      <td>...</td>\n",
       "      <td>...</td>\n",
       "      <td>...</td>\n",
       "      <td>...</td>\n",
       "    </tr>\n",
       "    <tr>\n",
       "      <th>10684</th>\n",
       "      <td>central</td>\n",
       "      <td>15563</td>\n",
       "      <td>no</td>\n",
       "      <td>premium</td>\n",
       "      <td>bachelor</td>\n",
       "      <td>1/19/11</td>\n",
       "      <td>jan</td>\n",
       "      <td>unemployed</td>\n",
       "      <td>f</td>\n",
       "      <td>61541</td>\n",
       "      <td>...</td>\n",
       "      <td>40</td>\n",
       "      <td>0</td>\n",
       "      <td>7</td>\n",
       "      <td>personal auto</td>\n",
       "      <td>personal l1</td>\n",
       "      <td>offer3</td>\n",
       "      <td>web</td>\n",
       "      <td>1214</td>\n",
       "      <td>luxury car</td>\n",
       "      <td>medsize</td>\n",
       "    </tr>\n",
       "    <tr>\n",
       "      <th>10685</th>\n",
       "      <td>north west</td>\n",
       "      <td>5259</td>\n",
       "      <td>no</td>\n",
       "      <td>basic</td>\n",
       "      <td>college</td>\n",
       "      <td>1/6/11</td>\n",
       "      <td>jan</td>\n",
       "      <td>employed</td>\n",
       "      <td>f</td>\n",
       "      <td>61146</td>\n",
       "      <td>...</td>\n",
       "      <td>68</td>\n",
       "      <td>0</td>\n",
       "      <td>6</td>\n",
       "      <td>personal auto</td>\n",
       "      <td>personal l3</td>\n",
       "      <td>offer2</td>\n",
       "      <td>branch</td>\n",
       "      <td>273</td>\n",
       "      <td>four-door car</td>\n",
       "      <td>medsize</td>\n",
       "    </tr>\n",
       "    <tr>\n",
       "      <th>10686</th>\n",
       "      <td>central</td>\n",
       "      <td>23893</td>\n",
       "      <td>no</td>\n",
       "      <td>extended</td>\n",
       "      <td>bachelor</td>\n",
       "      <td>2/6/11</td>\n",
       "      <td>feb</td>\n",
       "      <td>employed</td>\n",
       "      <td>f</td>\n",
       "      <td>39837</td>\n",
       "      <td>...</td>\n",
       "      <td>63</td>\n",
       "      <td>0</td>\n",
       "      <td>2</td>\n",
       "      <td>corporate auto</td>\n",
       "      <td>corporate l3</td>\n",
       "      <td>offer1</td>\n",
       "      <td>web</td>\n",
       "      <td>381</td>\n",
       "      <td>luxury suv</td>\n",
       "      <td>medsize</td>\n",
       "    </tr>\n",
       "    <tr>\n",
       "      <th>10687</th>\n",
       "      <td>west region</td>\n",
       "      <td>11971</td>\n",
       "      <td>no</td>\n",
       "      <td>premium</td>\n",
       "      <td>college</td>\n",
       "      <td>2/13/11</td>\n",
       "      <td>feb</td>\n",
       "      <td>employed</td>\n",
       "      <td>f</td>\n",
       "      <td>64195</td>\n",
       "      <td>...</td>\n",
       "      <td>27</td>\n",
       "      <td>4</td>\n",
       "      <td>6</td>\n",
       "      <td>personal auto</td>\n",
       "      <td>personal l1</td>\n",
       "      <td>offer1</td>\n",
       "      <td>branch</td>\n",
       "      <td>618</td>\n",
       "      <td>suv</td>\n",
       "      <td>medsize</td>\n",
       "    </tr>\n",
       "    <tr>\n",
       "      <th>10688</th>\n",
       "      <td>central</td>\n",
       "      <td>6857</td>\n",
       "      <td>no</td>\n",
       "      <td>basic</td>\n",
       "      <td>bachelor</td>\n",
       "      <td>1/8/11</td>\n",
       "      <td>jan</td>\n",
       "      <td>unemployed</td>\n",
       "      <td>m</td>\n",
       "      <td>68942</td>\n",
       "      <td>...</td>\n",
       "      <td>1</td>\n",
       "      <td>0</td>\n",
       "      <td>3</td>\n",
       "      <td>personal auto</td>\n",
       "      <td>personal l1</td>\n",
       "      <td>offer4</td>\n",
       "      <td>web</td>\n",
       "      <td>1021</td>\n",
       "      <td>suv</td>\n",
       "      <td>medsize</td>\n",
       "    </tr>\n",
       "  </tbody>\n",
       "</table>\n",
       "<p>10689 rows × 24 columns</p>\n",
       "</div>"
      ],
      "text/plain": [
       "            region  customer_lifetime_value response  coverage education  \\\n",
       "0          central                     4809       no     basic   college   \n",
       "1      west region                     2228       no     basic   college   \n",
       "2             east                    14947       no     basic  bachelor   \n",
       "3       north west                    22332      yes  extended   college   \n",
       "4       north west                     9025       no   premium  bachelor   \n",
       "...            ...                      ...      ...       ...       ...   \n",
       "10684      central                    15563       no   premium  bachelor   \n",
       "10685   north west                     5259       no     basic   college   \n",
       "10686      central                    23893       no  extended  bachelor   \n",
       "10687  west region                    11971       no   premium   college   \n",
       "10688      central                     6857       no     basic  bachelor   \n",
       "\n",
       "      effective_to_date month employment_status gender  income  ...  \\\n",
       "0               2/18/11   feb          employed      m   48029  ...   \n",
       "1               1/18/11   jan        unemployed      f   92260  ...   \n",
       "2               2/10/11   feb          employed      m   22139  ...   \n",
       "3               1/11/11   jan          employed      m   49078  ...   \n",
       "4               1/17/11   jan     medical leave      f   23675  ...   \n",
       "...                 ...   ...               ...    ...     ...  ...   \n",
       "10684           1/19/11   jan        unemployed      f   61541  ...   \n",
       "10685            1/6/11   jan          employed      f   61146  ...   \n",
       "10686            2/6/11   feb          employed      f   39837  ...   \n",
       "10687           2/13/11   feb          employed      f   64195  ...   \n",
       "10688            1/8/11   jan        unemployed      m   68942  ...   \n",
       "\n",
       "      months_since_policy_inception number_of_open_complaints  \\\n",
       "0                                52                         0   \n",
       "1                                26                         0   \n",
       "2                                31                         0   \n",
       "3                                 3                         0   \n",
       "4                                31                         0   \n",
       "...                             ...                       ...   \n",
       "10684                            40                         0   \n",
       "10685                            68                         0   \n",
       "10686                            63                         0   \n",
       "10687                            27                         4   \n",
       "10688                             1                         0   \n",
       "\n",
       "       number_of_policies     policy_type        policy  renew_offer_type  \\\n",
       "0                       9  corporate auto  corporate l3            offer3   \n",
       "1                       1   personal auto   personal l3            offer4   \n",
       "2                       2   personal auto   personal l3            offer3   \n",
       "3                       2  corporate auto  corporate l3            offer2   \n",
       "4                       7   personal auto   personal l2            offer1   \n",
       "...                   ...             ...           ...               ...   \n",
       "10684                   7   personal auto   personal l1            offer3   \n",
       "10685                   6   personal auto   personal l3            offer2   \n",
       "10686                   2  corporate auto  corporate l3            offer1   \n",
       "10687                   6   personal auto   personal l1            offer1   \n",
       "10688                   3   personal auto   personal l1            offer4   \n",
       "\n",
       "       sales_channel total_claim_amount  vehicle_class vehicle_size  \n",
       "0              agent                292  four-door car      medsize  \n",
       "1        call center                744  four-door car      medsize  \n",
       "2        call center                480            suv      medsize  \n",
       "3             branch                484  four-door car      medsize  \n",
       "4             branch                707  four-door car      medsize  \n",
       "...              ...                ...            ...          ...  \n",
       "10684            web               1214     luxury car      medsize  \n",
       "10685         branch                273  four-door car      medsize  \n",
       "10686            web                381     luxury suv      medsize  \n",
       "10687         branch                618            suv      medsize  \n",
       "10688            web               1021            suv      medsize  \n",
       "\n",
       "[10689 rows x 24 columns]"
      ]
     },
     "execution_count": 213,
     "metadata": {},
     "output_type": "execute_result"
    }
   ],
   "source": [
    "df"
   ]
  },
  {
   "cell_type": "code",
   "execution_count": 42,
   "id": "85a7781c",
   "metadata": {},
   "outputs": [],
   "source": [
    "df_num = df.select_dtypes(include='number')"
   ]
  },
  {
   "cell_type": "code",
   "execution_count": 212,
   "id": "0156a394",
   "metadata": {
    "scrolled": false
   },
   "outputs": [
    {
     "data": {
      "text/plain": [
       "Index(['customer_lifetime_value', 'income', 'monthly_premium_auto',\n",
       "       'months_since_last_claim', 'months_since_policy_inception',\n",
       "       'number_of_open_complaints', 'number_of_policies',\n",
       "       'total_claim_amount'],\n",
       "      dtype='object')"
      ]
     },
     "execution_count": 212,
     "metadata": {},
     "output_type": "execute_result"
    }
   ],
   "source": [
    "df_num.columns"
   ]
  },
  {
   "cell_type": "code",
   "execution_count": 86,
   "id": "f2304bc4",
   "metadata": {},
   "outputs": [
    {
     "data": {
      "text/plain": [
       "customer_lifetime_value          False\n",
       "income                           False\n",
       "monthly_premium_auto             False\n",
       "months_since_last_claim          False\n",
       "months_since_policy_inception    False\n",
       "number_of_open_complaints        False\n",
       "number_of_policies               False\n",
       "total_claim_amount               False\n",
       "dtype: bool"
      ]
     },
     "execution_count": 86,
     "metadata": {},
     "output_type": "execute_result"
    }
   ],
   "source": [
    "df_num = df_num.drop_duplicates()\n",
    "\n",
    "df_num.isna().any()"
   ]
  },
  {
   "cell_type": "markdown",
   "id": "c2f8b062",
   "metadata": {},
   "source": [
    "## Spltting & Scalling"
   ]
  },
  {
   "cell_type": "code",
   "execution_count": 96,
   "id": "9743ef68",
   "metadata": {},
   "outputs": [],
   "source": [
    "# splitting\n",
    "\n",
    "X = df_num.drop(['total_claim_amount'], axis=1)\n",
    "y = df_num[['total_claim_amount']]"
   ]
  },
  {
   "cell_type": "code",
   "execution_count": 198,
   "id": "c7e82ee0",
   "metadata": {
    "scrolled": true
   },
   "outputs": [],
   "source": [
    "X_train, X_test, y_train, y_test = train_test_split(X, y, test_size=0.25, random_state=42)"
   ]
  },
  {
   "cell_type": "code",
   "execution_count": 199,
   "id": "d1d6c4ed",
   "metadata": {
    "scrolled": true
   },
   "outputs": [],
   "source": [
    "# past split scaling \n",
    "\n",
    "scaler = MinMaxScaler()\n",
    "scaler.fit(X_train)\n",
    "X_train = scaler.transform(X_train)\n",
    "X_test = scaler.transform(X_test)\n",
    "\n"
   ]
  },
  {
   "cell_type": "markdown",
   "id": "4a1d95f1",
   "metadata": {},
   "source": [
    "## Apply linear regression.\n"
   ]
  },
  {
   "cell_type": "code",
   "execution_count": 200,
   "id": "811dab7e",
   "metadata": {},
   "outputs": [],
   "source": [
    "lm = LinearRegression()\n",
    "model = lm.fit(X_train, y_train)\n",
    "\n"
   ]
  },
  {
   "cell_type": "code",
   "execution_count": 201,
   "id": "ccf3cdf7",
   "metadata": {},
   "outputs": [
    {
     "data": {
      "text/plain": [
       "array([[-180.79796708, -111.099357  , 1352.90069037,   13.97004314,\n",
       "          -7.18644081,    6.26408628,    4.71566173]])"
      ]
     },
     "execution_count": 201,
     "metadata": {},
     "output_type": "execute_result"
    }
   ],
   "source": [
    "model.coef_\n"
   ]
  },
  {
   "cell_type": "code",
   "execution_count": 202,
   "id": "d426f185",
   "metadata": {
    "scrolled": true
   },
   "outputs": [
    {
     "data": {
      "text/plain": [
       "array([317.56674038])"
      ]
     },
     "execution_count": 202,
     "metadata": {},
     "output_type": "execute_result"
    }
   ],
   "source": [
    "model.intercept_"
   ]
  },
  {
   "cell_type": "markdown",
   "id": "b16c2b03",
   "metadata": {},
   "source": [
    "## Model Interpretation"
   ]
  },
  {
   "cell_type": "code",
   "execution_count": 203,
   "id": "5f4f3dcd",
   "metadata": {},
   "outputs": [
    {
     "data": {
      "text/html": [
       "<div>\n",
       "<style scoped>\n",
       "    .dataframe tbody tr th:only-of-type {\n",
       "        vertical-align: middle;\n",
       "    }\n",
       "\n",
       "    .dataframe tbody tr th {\n",
       "        vertical-align: top;\n",
       "    }\n",
       "\n",
       "    .dataframe thead th {\n",
       "        text-align: right;\n",
       "    }\n",
       "</style>\n",
       "<table border=\"1\" class=\"dataframe\">\n",
       "  <thead>\n",
       "    <tr style=\"text-align: right;\">\n",
       "      <th></th>\n",
       "      <th>0</th>\n",
       "    </tr>\n",
       "  </thead>\n",
       "  <tbody>\n",
       "    <tr>\n",
       "      <th>0</th>\n",
       "      <td>508.298322</td>\n",
       "    </tr>\n",
       "    <tr>\n",
       "      <th>1</th>\n",
       "      <td>493.451164</td>\n",
       "    </tr>\n",
       "    <tr>\n",
       "      <th>2</th>\n",
       "      <td>238.259211</td>\n",
       "    </tr>\n",
       "    <tr>\n",
       "      <th>3</th>\n",
       "      <td>320.242764</td>\n",
       "    </tr>\n",
       "    <tr>\n",
       "      <th>4</th>\n",
       "      <td>348.051610</td>\n",
       "    </tr>\n",
       "    <tr>\n",
       "      <th>5</th>\n",
       "      <td>897.763685</td>\n",
       "    </tr>\n",
       "    <tr>\n",
       "      <th>6</th>\n",
       "      <td>847.856196</td>\n",
       "    </tr>\n",
       "    <tr>\n",
       "      <th>7</th>\n",
       "      <td>275.319540</td>\n",
       "    </tr>\n",
       "    <tr>\n",
       "      <th>8</th>\n",
       "      <td>340.306945</td>\n",
       "    </tr>\n",
       "    <tr>\n",
       "      <th>9</th>\n",
       "      <td>513.722617</td>\n",
       "    </tr>\n",
       "  </tbody>\n",
       "</table>\n",
       "</div>"
      ],
      "text/plain": [
       "            0\n",
       "0  508.298322\n",
       "1  493.451164\n",
       "2  238.259211\n",
       "3  320.242764\n",
       "4  348.051610\n",
       "5  897.763685\n",
       "6  847.856196\n",
       "7  275.319540\n",
       "8  340.306945\n",
       "9  513.722617"
      ]
     },
     "execution_count": 203,
     "metadata": {},
     "output_type": "execute_result"
    }
   ],
   "source": [
    "y_pred"
   ]
  },
  {
   "cell_type": "code",
   "execution_count": 204,
   "id": "97bc1ee7",
   "metadata": {},
   "outputs": [],
   "source": [
    "y_pred = model.predict(X_test)\n",
    "\n",
    "y_pred = pd.DataFrame(y_pred)"
   ]
  },
  {
   "cell_type": "code",
   "execution_count": 205,
   "id": "36a4d031",
   "metadata": {
    "scrolled": true
   },
   "outputs": [],
   "source": [
    "y_test = y_test.reset_index(drop=True)\n",
    "\n",
    "r_df = pd.concat([y_test, y_pred], axis=1) \n",
    "\n",
    "r_df = r_df.rename(columns={\"total_claim_amount\": \"y_test\", 0: \"y_pred\"})"
   ]
  },
  {
   "cell_type": "code",
   "execution_count": 207,
   "id": "77444496",
   "metadata": {
    "scrolled": true
   },
   "outputs": [
    {
     "data": {
      "text/plain": [
       "y_test    0\n",
       "y_pred    0\n",
       "dtype: int64"
      ]
     },
     "execution_count": 207,
     "metadata": {},
     "output_type": "execute_result"
    }
   ],
   "source": [
    "r_df.isna().sum()"
   ]
  },
  {
   "cell_type": "code",
   "execution_count": 208,
   "id": "07df7003",
   "metadata": {
    "scrolled": false
   },
   "outputs": [
    {
     "data": {
      "text/html": [
       "<div>\n",
       "<style scoped>\n",
       "    .dataframe tbody tr th:only-of-type {\n",
       "        vertical-align: middle;\n",
       "    }\n",
       "\n",
       "    .dataframe tbody tr th {\n",
       "        vertical-align: top;\n",
       "    }\n",
       "\n",
       "    .dataframe thead th {\n",
       "        text-align: right;\n",
       "    }\n",
       "</style>\n",
       "<table border=\"1\" class=\"dataframe\">\n",
       "  <thead>\n",
       "    <tr style=\"text-align: right;\">\n",
       "      <th></th>\n",
       "      <th>y_test</th>\n",
       "      <th>y_pred</th>\n",
       "    </tr>\n",
       "  </thead>\n",
       "  <tbody>\n",
       "    <tr>\n",
       "      <th>0</th>\n",
       "      <td>631</td>\n",
       "      <td>514.793892</td>\n",
       "    </tr>\n",
       "    <tr>\n",
       "      <th>1</th>\n",
       "      <td>956</td>\n",
       "      <td>495.915276</td>\n",
       "    </tr>\n",
       "    <tr>\n",
       "      <th>2</th>\n",
       "      <td>271</td>\n",
       "      <td>231.360995</td>\n",
       "    </tr>\n",
       "  </tbody>\n",
       "</table>\n",
       "</div>"
      ],
      "text/plain": [
       "   y_test      y_pred\n",
       "0     631  514.793892\n",
       "1     956  495.915276\n",
       "2     271  231.360995"
      ]
     },
     "execution_count": 208,
     "metadata": {},
     "output_type": "execute_result"
    }
   ],
   "source": [
    "r_df.head(3)"
   ]
  },
  {
   "cell_type": "code",
   "execution_count": 209,
   "id": "7efc6af8",
   "metadata": {},
   "outputs": [
    {
     "data": {
      "text/html": [
       "<div>\n",
       "<style scoped>\n",
       "    .dataframe tbody tr th:only-of-type {\n",
       "        vertical-align: middle;\n",
       "    }\n",
       "\n",
       "    .dataframe tbody tr th {\n",
       "        vertical-align: top;\n",
       "    }\n",
       "\n",
       "    .dataframe thead th {\n",
       "        text-align: right;\n",
       "    }\n",
       "</style>\n",
       "<table border=\"1\" class=\"dataframe\">\n",
       "  <thead>\n",
       "    <tr style=\"text-align: right;\">\n",
       "      <th></th>\n",
       "      <th>y_test</th>\n",
       "      <th>y_pred</th>\n",
       "      <th>residual</th>\n",
       "    </tr>\n",
       "  </thead>\n",
       "  <tbody>\n",
       "    <tr>\n",
       "      <th>0</th>\n",
       "      <td>631</td>\n",
       "      <td>514.793892</td>\n",
       "      <td>116.206108</td>\n",
       "    </tr>\n",
       "    <tr>\n",
       "      <th>1</th>\n",
       "      <td>956</td>\n",
       "      <td>495.915276</td>\n",
       "      <td>460.084724</td>\n",
       "    </tr>\n",
       "    <tr>\n",
       "      <th>2</th>\n",
       "      <td>271</td>\n",
       "      <td>231.360995</td>\n",
       "      <td>39.639005</td>\n",
       "    </tr>\n",
       "    <tr>\n",
       "      <th>3</th>\n",
       "      <td>669</td>\n",
       "      <td>319.174191</td>\n",
       "      <td>349.825809</td>\n",
       "    </tr>\n",
       "    <tr>\n",
       "      <th>4</th>\n",
       "      <td>318</td>\n",
       "      <td>350.298236</td>\n",
       "      <td>-32.298236</td>\n",
       "    </tr>\n",
       "  </tbody>\n",
       "</table>\n",
       "</div>"
      ],
      "text/plain": [
       "   y_test      y_pred    residual\n",
       "0     631  514.793892  116.206108\n",
       "1     956  495.915276  460.084724\n",
       "2     271  231.360995   39.639005\n",
       "3     669  319.174191  349.825809\n",
       "4     318  350.298236  -32.298236"
      ]
     },
     "execution_count": 209,
     "metadata": {},
     "output_type": "execute_result"
    }
   ],
   "source": [
    "r_df['residual'] = r_df['y_test']-r_df['y_pred']\n",
    "r_df.head()"
   ]
  },
  {
   "cell_type": "markdown",
   "id": "29a542e3",
   "metadata": {},
   "source": [
    "## Model Interpretation"
   ]
  },
  {
   "cell_type": "code",
   "execution_count": 210,
   "id": "b0d41fc5",
   "metadata": {},
   "outputs": [],
   "source": [
    "from sklearn.metrics import mean_absolute_error as mae, mean_squared_error as mse\n",
    "import numpy as np"
   ]
  },
  {
   "cell_type": "code",
   "execution_count": 211,
   "id": "6766e3f9",
   "metadata": {
    "scrolled": true
   },
   "outputs": [
    {
     "name": "stdout",
     "output_type": "stream",
     "text": [
      "\n",
      "Model Interpretation\n",
      "*************************\n",
      "MAE:163.1006739680857\n",
      "RMSE: 235.8458033341696\n",
      "\n"
     ]
    }
   ],
   "source": [
    "RMSE = np.sqrt(mse(y_test, y_pred))\n",
    "MAE = mae(y_test, y_pred)\n",
    "\n",
    "print(f'\\nModel Interpretation\\n{\"*\"*25}\\nMAE:{MAE}\\nRMSE: {RMSE}\\n')"
   ]
  },
  {
   "cell_type": "code",
   "execution_count": null,
   "id": "22f78db7",
   "metadata": {},
   "outputs": [],
   "source": []
  }
 ],
 "metadata": {
  "kernelspec": {
   "display_name": "Python 3 (ipykernel)",
   "language": "python",
   "name": "python3"
  },
  "language_info": {
   "codemirror_mode": {
    "name": "ipython",
    "version": 3
   },
   "file_extension": ".py",
   "mimetype": "text/x-python",
   "name": "python",
   "nbconvert_exporter": "python",
   "pygments_lexer": "ipython3",
   "version": "3.11.5"
  }
 },
 "nbformat": 4,
 "nbformat_minor": 5
}
