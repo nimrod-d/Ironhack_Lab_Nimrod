{
 "cells": [
  {
   "cell_type": "markdown",
   "id": "2e000468",
   "metadata": {},
   "source": [
    "### Lab | Hypothesis Testing\n",
    "\n",
    "It is assumed that the mean systolic blood pressure is μ = 120 mm Hg. In the Honolulu Heart Study, a sample of n = 100 people had an average systolic blood pressure of 130.1 mm Hg with a standard deviation of 21.21 mm Hg. Is the group significantly different (with respect to systolic blood pressure!) from the regular population?\n",
    "\n",
    "Set up the hypothesis test.\n",
    "\n",
    "\n",
    "Write down all the steps followed for setting up the test.\n",
    "\n",
    "\n",
    "Calculate the test statistic by hand and also code it in Python. It should be 4.76190. What decision can you make based on this calculated value?"
   ]
  },
  {
   "cell_type": "code",
   "execution_count": 12,
   "id": "4edd3ce8",
   "metadata": {},
   "outputs": [
    {
     "data": {
      "text/plain": [
       "4.761904761904759"
      ]
     },
     "execution_count": 12,
     "metadata": {},
     "output_type": "execute_result"
    }
   ],
   "source": [
    "import numpy as np\n",
    "\n",
    "# The null hypothesis is that H0 mean blood pressure is eqaul to 120 mm Hg and the alternative hypothesis is that it is\n",
    "# different from 120 mm Hg \n",
    "\n",
    "# H0 - Mean blood pressure = 120\n",
    "# H1 - Mean blood pressure != 120 \n",
    "μ = 120\n",
    "n = 100\n",
    "x̄ = 130.1 \n",
    "SE = 21.21 \n",
    "t = 2.626\n",
    "\n",
    "\n",
    "\n",
    "p_value = (x̄-μ)/(SE/np.sqrt(n))\n",
    "p_value"
   ]
  },
  {
   "cell_type": "markdown",
   "id": "b74fd37d",
   "metadata": {},
   "source": [
    "## Conclusion \n",
    "\n",
    "Based on P-Value equals to 4.761 and given the t distrubation is equal to 2.626 we can safely reject the claim that the mean blood pressure is equal to 120 mm Hg"
   ]
  }
 ],
 "metadata": {
  "kernelspec": {
   "display_name": "Python 3 (ipykernel)",
   "language": "python",
   "name": "python3"
  },
  "language_info": {
   "codemirror_mode": {
    "name": "ipython",
    "version": 3
   },
   "file_extension": ".py",
   "mimetype": "text/x-python",
   "name": "python",
   "nbconvert_exporter": "python",
   "pygments_lexer": "ipython3",
   "version": "3.11.5"
  }
 },
 "nbformat": 4,
 "nbformat_minor": 5
}
